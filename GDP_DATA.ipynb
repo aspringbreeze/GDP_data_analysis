{
 "cells": [
  {
   "cell_type": "markdown",
   "id": "a8d73fd8",
   "metadata": {},
   "source": [
    "After reviewing the raw data, I found the GDP data is not only about countries, but also about the unions, like European Union. We need to wipe oput the union data to analyze the trend of country GDP. \n",
    "Here we import the country code and use .isin() to select the country data.\n",
    "We design a small interactive game to get the top 5 and last 5 countries when use enter a year."
   ]
  },
  {
   "cell_type": "code",
   "execution_count": 2,
   "id": "cde91833",
   "metadata": {},
   "outputs": [
    {
     "name": "stdout",
     "output_type": "stream",
     "text": [
      "<class 'pandas.core.frame.DataFrame'>\n",
      "RangeIndex: 266 entries, 0 to 265\n",
      "Data columns (total 66 columns):\n",
      " #   Column          Non-Null Count  Dtype  \n",
      "---  ------          --------------  -----  \n",
      " 0   Country Name    266 non-null    object \n",
      " 1   Country Code    266 non-null    object \n",
      " 2   Indicator Name  266 non-null    object \n",
      " 3   Indicator Code  266 non-null    object \n",
      " 4   1960            133 non-null    object \n",
      " 5   1961            135 non-null    float64\n",
      " 6   1962            137 non-null    float64\n",
      " 7   1963            137 non-null    float64\n",
      " 8   1964            137 non-null    float64\n",
      " 9   1965            148 non-null    float64\n",
      " 10  1966            151 non-null    float64\n",
      " 11  1967            155 non-null    float64\n",
      " 12  1968            160 non-null    float64\n",
      " 13  1969            160 non-null    float64\n",
      " 14  1970            169 non-null    float64\n",
      " 15  1971            172 non-null    float64\n",
      " 16  1972            172 non-null    float64\n",
      " 17  1973            172 non-null    float64\n",
      " 18  1974            173 non-null    float64\n",
      " 19  1975            175 non-null    float64\n",
      " 20  1976            176 non-null    float64\n",
      " 21  1977            179 non-null    float64\n",
      " 22  1978            178 non-null    float64\n",
      " 23  1979            179 non-null    float64\n",
      " 24  1980            191 non-null    float64\n",
      " 25  1981            194 non-null    float64\n",
      " 26  1982            195 non-null    float64\n",
      " 27  1983            196 non-null    float64\n",
      " 28  1984            197 non-null    float64\n",
      " 29  1985            199 non-null    float64\n",
      " 30  1986            201 non-null    float64\n",
      " 31  1987            205 non-null    float64\n",
      " 32  1988            210 non-null    float64\n",
      " 33  1989            210 non-null    float64\n",
      " 34  1990            226 non-null    float64\n",
      " 35  1991            226 non-null    float64\n",
      " 36  1992            227 non-null    float64\n",
      " 37  1993            229 non-null    float64\n",
      " 38  1994            231 non-null    float64\n",
      " 39  1995            240 non-null    float64\n",
      " 40  1996            240 non-null    float64\n",
      " 41  1997            240 non-null    float64\n",
      " 42  1998            242 non-null    float64\n",
      " 43  1999            243 non-null    float64\n",
      " 44  2000            247 non-null    float64\n",
      " 45  2001            248 non-null    float64\n",
      " 46  2002            253 non-null    float64\n",
      " 47  2003            253 non-null    float64\n",
      " 48  2004            253 non-null    float64\n",
      " 49  2005            253 non-null    float64\n",
      " 50  2006            254 non-null    float64\n",
      " 51  2007            254 non-null    float64\n",
      " 52  2008            255 non-null    float64\n",
      " 53  2009            255 non-null    float64\n",
      " 54  2010            256 non-null    float64\n",
      " 55  2011            259 non-null    float64\n",
      " 56  2012            257 non-null    float64\n",
      " 57  2013            258 non-null    float64\n",
      " 58  2014            259 non-null    float64\n",
      " 59  2015            258 non-null    float64\n",
      " 60  2016            257 non-null    float64\n",
      " 61  2017            257 non-null    float64\n",
      " 62  2018            257 non-null    float64\n",
      " 63  2019            255 non-null    float64\n",
      " 64  2020            251 non-null    float64\n",
      " 65  2021            229 non-null    float64\n",
      "dtypes: float64(61), object(5)\n",
      "memory usage: 137.3+ KB\n",
      "None\n",
      "Invalid number\n",
      "Enter the year: 1986\n"
     ]
    }
   ],
   "source": [
    "import pandas as pd\n",
    "csv_data = pd.read_csv('GDP DATA.csv', thousands=',')\n",
    "## print(csv_data.shape)\n",
    "\n",
    "## print(csv_batch_data.shape)\n",
    "\n",
    "cc = pd.read_csv('country_codes.csv')\n",
    "# print(cc.info())\n",
    "c = cc['Code Value']\n",
    "\n",
    "df = csv_data[csv_data['Country Code'].isin(c)]\n",
    "\n",
    "## print(df.head())\n",
    "\n",
    "## print(csv_data.iloc[:, [0, 2]])\n",
    "\n",
    "## print(csv_data['Indicator Name'].value_counts())\n",
    "\n",
    "print(csv_data.info())\n",
    "\n",
    "## print(csv_data.isnull().sum())\n",
    "\n",
    "\n",
    "try:\n",
    "    input_year = int(input(\"Enter the year: \"))\n",
    "    if input_year > 1959 and input_year < 2022:\n",
    "        h = df.sort_values(by=str(input_year), ascending=False)[['Country Name', str(input_year)]]\n",
    "        h = h.dropna()\n",
    "        print(h.head())\n",
    "        print(h.tail())\n",
    "    else:\n",
    "        print(\"Please try a year between 1960 and 2021.\")\n",
    "except:\n",
    "    print(\"Invalid number\")"
   ]
  },
  {
   "cell_type": "markdown",
   "id": "baa1b56b",
   "metadata": {},
   "source": [
    "We want to predict the 2022 GDP of all countries. We use the simplest method: the same increase as 2021."
   ]
  },
  {
   "cell_type": "code",
   "execution_count": 3,
   "id": "696d1034",
   "metadata": {},
   "outputs": [
    {
     "name": "stdout",
     "output_type": "stream",
     "text": [
      "0             NaN\n",
      "2             NaN\n",
      "4    9.147490e+10\n",
      "5    2.138822e+10\n",
      "6    3.768820e+09\n",
      "Name: 2022, dtype: float64\n"
     ]
    },
    {
     "name": "stderr",
     "output_type": "stream",
     "text": [
      "C:\\Users\\Chang\\AppData\\Local\\Temp\\ipykernel_29936\\1866094707.py:1: SettingWithCopyWarning: \n",
      "A value is trying to be set on a copy of a slice from a DataFrame.\n",
      "Try using .loc[row_indexer,col_indexer] = value instead\n",
      "\n",
      "See the caveats in the documentation: https://pandas.pydata.org/pandas-docs/stable/user_guide/indexing.html#returning-a-view-versus-a-copy\n",
      "  df['2022'] = df['2021'] + df['2021'] - df['2020']\n"
     ]
    }
   ],
   "source": [
    "df['2022'] = df['2021'] + df['2021'] - df['2020']\n",
    "print(df['2022'].head())"
   ]
  },
  {
   "cell_type": "code",
   "execution_count": 4,
   "id": "4b68c924",
   "metadata": {},
   "outputs": [
    {
     "name": "stdout",
     "output_type": "stream",
     "text": [
      "40    2.078045e+13\n",
      "Name: 2022, dtype: float64\n"
     ]
    }
   ],
   "source": [
    "print(df[df['Country Name']=='China']['2022'])"
   ]
  },
  {
   "cell_type": "markdown",
   "id": "32387bbf",
   "metadata": {},
   "source": [
    "We want to draw a simple line to verify our prediction of 2022 GDP of China."
   ]
  },
  {
   "cell_type": "code",
   "execution_count": 5,
   "id": "0f296050",
   "metadata": {},
   "outputs": [
    {
     "name": "stdout",
     "output_type": "stream",
     "text": [
      "            2020          2021          2022\n",
      "40  1.468767e+13  1.773406e+13  2.078045e+13\n"
     ]
    }
   ],
   "source": [
    "China_GDP_recent = df[df['Country Name']=='China'][['2020', '2021', '2022']]\n",
    "print(China_GDP_recent)"
   ]
  },
  {
   "cell_type": "code",
   "execution_count": 6,
   "id": "afe05d16",
   "metadata": {},
   "outputs": [
    {
     "name": "stdout",
     "output_type": "stream",
     "text": [
      "<class 'pandas.core.frame.DataFrame'>\n"
     ]
    }
   ],
   "source": [
    "print(type(China_GDP_recent))"
   ]
  },
  {
   "cell_type": "markdown",
   "id": "8bb91088",
   "metadata": {},
   "source": [
    "We use a solid line to represent real GDP and dot line to represent predictive GDP."
   ]
  },
  {
   "cell_type": "code",
   "execution_count": 7,
   "id": "9d03e3cb",
   "metadata": {},
   "outputs": [],
   "source": [
    "GDP_2020_2021 = China_GDP_recent.iloc[:, 0:2]\n",
    "GDP_2021_2022 = China_GDP_recent.iloc[:, 1:3]"
   ]
  },
  {
   "cell_type": "code",
   "execution_count": 8,
   "id": "cdeaed5b",
   "metadata": {},
   "outputs": [
    {
     "data": {
      "image/png": "[encoded data removed]",
      "text/plain": [
       "<Figure size 432x288 with 1 Axes>"
      ]
     },
     "metadata": {
      "needs_background": "light"
     },
     "output_type": "display_data"
    }
   ],
   "source": [
    "import matplotlib.pyplot as plt\n",
    "plt.plot(GDP_2020_2021.columns, GDP_2020_2021.iloc[0, :])\n",
    "plt.plot(GDP_2021_2022.columns, GDP_2021_2022.iloc[0, :], linestyle='dashed')\n",
    "plt.show()"
   ]
  },
  {
   "cell_type": "markdown",
   "id": "2067cc4a",
   "metadata": {},
   "source": [
    "It seems totally a liner growth."
   ]
  },
  {
   "cell_type": "markdown",
   "id": "42d11cfe",
   "metadata": {},
   "source": [
    "We want to find the top 10 countries and infer the GDP trend from 1960 until 2021."
   ]
  },
  {
   "cell_type": "code",
   "execution_count": 9,
   "id": "2cb85901",
   "metadata": {},
   "outputs": [
    {
     "data": {
      "text/plain": [
       "pandas.core.series.Series"
      ]
     },
     "execution_count": 9,
     "metadata": {},
     "output_type": "execute_result"
    }
   ],
   "source": [
    "type(df['1980'].head())"
   ]
  },
  {
   "cell_type": "markdown",
   "id": "905768ea",
   "metadata": {},
   "source": [
    "From the above line we know the sorted column is a series. Next we know how to deal with sorted columns and put them in a new dataframe."
   ]
  },
  {
   "cell_type": "code",
   "execution_count": 10,
   "id": "c300e5fd",
   "metadata": {},
   "outputs": [
    {
     "name": "stdout",
     "output_type": "stream",
     "text": [
      "  Country Name Country Code     Indicator Name  Indicator Code           1960  \\\n",
      "0        Aruba          ABW  GDP (current US$)  NY.GDP.MKTP.CD            NaN   \n",
      "2  Afghanistan          AFG  GDP (current US$)  NY.GDP.MKTP.CD   537,777,811    \n",
      "4       Angola          AGO  GDP (current US$)  NY.GDP.MKTP.CD            NaN   \n",
      "5      Albania          ALB  GDP (current US$)  NY.GDP.MKTP.CD            NaN   \n",
      "6      Andorra          AND  GDP (current US$)  NY.GDP.MKTP.CD            NaN   \n",
      "\n",
      "          1961         1962         1963         1964          1965  ...  \\\n",
      "0          NaN          NaN          NaN          NaN           NaN  ...   \n",
      "2  548888896.0  546666678.0  751111191.0  800000044.0  1.006667e+09  ...   \n",
      "4          NaN          NaN          NaN          NaN           NaN  ...   \n",
      "5          NaN          NaN          NaN          NaN           NaN  ...   \n",
      "6          NaN          NaN          NaN          NaN           NaN  ...   \n",
      "\n",
      "           2013          2014          2015          2016          2017  \\\n",
      "0  2.727933e+09  2.791061e+09  2.963128e+09  2.983799e+09  3.092179e+09   \n",
      "2  2.014640e+10  2.049713e+10  1.913421e+10  1.811656e+10  1.875347e+10   \n",
      "4  1.334016e+11  1.372444e+11  8.721929e+10  4.984049e+10  6.897276e+10   \n",
      "5  1.277622e+10  1.322815e+10  1.138685e+10  1.186120e+10  1.301969e+10   \n",
      "6  3.193513e+09  3.271686e+09  2.789881e+09  2.896610e+09  3.000162e+09   \n",
      "\n",
      "           2018          2019          2020          2021          2022  \n",
      "0  3.202235e+09  3.310056e+09  2.496648e+09           NaN           NaN  \n",
      "2  1.805323e+10  1.879945e+10  2.011614e+10           NaN           NaN  \n",
      "4  7.779294e+10  6.930910e+10  5.361907e+10  7.254699e+10  9.147490e+10  \n",
      "5  1.515643e+10  1.540183e+10  1.513187e+10  1.826004e+10  2.138822e+10  \n",
      "6  3.218420e+09  3.155149e+09  2.891001e+09  3.329911e+09  3.768820e+09  \n",
      "\n",
      "[5 rows x 67 columns]\n",
      "<class 'pandas.core.frame.DataFrame'>\n",
      "Int64Index: 216 entries, 0 to 265\n",
      "Data columns (total 67 columns):\n",
      " #   Column          Non-Null Count  Dtype  \n",
      "---  ------          --------------  -----  \n",
      " 0   Country Name    216 non-null    object \n",
      " 1   Country Code    216 non-null    object \n",
      " 2   Indicator Name  216 non-null    object \n",
      " 3   Indicator Code  216 non-null    object \n",
      " 4   1960            100 non-null    object \n",
      " 5   1961            102 non-null    float64\n",
      " 6   1962            104 non-null    float64\n",
      " 7   1963            104 non-null    float64\n",
      " 8   1964            104 non-null    float64\n",
      " 9   1965            113 non-null    float64\n",
      " 10  1966            115 non-null    float64\n",
      " 11  1967            118 non-null    float64\n",
      " 12  1968            120 non-null    float64\n",
      " 13  1969            120 non-null    float64\n",
      " 14  1970            126 non-null    float64\n",
      " 15  1971            128 non-null    float64\n",
      " 16  1972            128 non-null    float64\n",
      " 17  1973            128 non-null    float64\n",
      " 18  1974            129 non-null    float64\n",
      " 19  1975            131 non-null    float64\n",
      " 20  1976            132 non-null    float64\n",
      " 21  1977            135 non-null    float64\n",
      " 22  1978            134 non-null    float64\n",
      " 23  1979            135 non-null    float64\n",
      " 24  1980            146 non-null    float64\n",
      " 25  1981            149 non-null    float64\n",
      " 26  1982            150 non-null    float64\n",
      " 27  1983            151 non-null    float64\n",
      " 28  1984            152 non-null    float64\n",
      " 29  1985            154 non-null    float64\n",
      " 30  1986            156 non-null    float64\n",
      " 31  1987            160 non-null    float64\n",
      " 32  1988            163 non-null    float64\n",
      " 33  1989            163 non-null    float64\n",
      " 34  1990            178 non-null    float64\n",
      " 35  1991            178 non-null    float64\n",
      " 36  1992            179 non-null    float64\n",
      " 37  1993            181 non-null    float64\n",
      " 38  1994            183 non-null    float64\n",
      " 39  1995            192 non-null    float64\n",
      " 40  1996            192 non-null    float64\n",
      " 41  1997            192 non-null    float64\n",
      " 42  1998            193 non-null    float64\n",
      " 43  1999            194 non-null    float64\n",
      " 44  2000            198 non-null    float64\n",
      " 45  2001            199 non-null    float64\n",
      " 46  2002            204 non-null    float64\n",
      " 47  2003            204 non-null    float64\n",
      " 48  2004            204 non-null    float64\n",
      " 49  2005            204 non-null    float64\n",
      " 50  2006            205 non-null    float64\n",
      " 51  2007            205 non-null    float64\n",
      " 52  2008            207 non-null    float64\n",
      " 53  2009            207 non-null    float64\n",
      " 54  2010            208 non-null    float64\n",
      " 55  2011            211 non-null    float64\n",
      " 56  2012            209 non-null    float64\n",
      " 57  2013            210 non-null    float64\n",
      " 58  2014            211 non-null    float64\n",
      " 59  2015            210 non-null    float64\n",
      " 60  2016            209 non-null    float64\n",
      " 61  2017            209 non-null    float64\n",
      " 62  2018            209 non-null    float64\n",
      " 63  2019            207 non-null    float64\n",
      " 64  2020            203 non-null    float64\n",
      " 65  2021            181 non-null    float64\n",
      " 66  2022            181 non-null    float64\n",
      "dtypes: float64(62), object(5)\n",
      "memory usage: 114.8+ KB\n",
      "None\n"
     ]
    }
   ],
   "source": [
    "print(df.head())\n",
    "print(df.info())"
   ]
  },
  {
   "cell_type": "code",
   "execution_count": 11,
   "id": "90a2c485",
   "metadata": {},
   "outputs": [
    {
     "name": "stdout",
     "output_type": "stream",
     "text": [
      "251    5.633000e+11\n",
      "81     7.774197e+10\n",
      "77     6.746164e+10\n",
      "119    5.350862e+10\n",
      "40     5.005687e+10\n",
      "           ...     \n",
      "257             NaN\n",
      "258             NaN\n",
      "260             NaN\n",
      "261             NaN\n",
      "262             NaN\n",
      "Name: 1961, Length: 216, dtype: float64\n",
      "[563300000000.0, 77741965703.0, 67461644222.0, 53508617739.0, 50056868958.0, 44842760293.0, 40934952064.0, 39232435784.0, 19683055213.0, 17275940449.0]\n",
      "251    6.051000e+11\n",
      "81     8.124756e+10\n",
      "77     7.560753e+10\n",
      "119    6.072302e+10\n",
      "116    5.038389e+10\n",
      "           ...     \n",
      "257             NaN\n",
      "258             NaN\n",
      "260             NaN\n",
      "261             NaN\n",
      "262             NaN\n",
      "Name: 1962, Length: 216, dtype: float64\n",
      "[605100000000.0, 81247564157.0, 75607529810.0, 60723018684.0, 50383891899.0, 47209359006.0, 42227447632.0, 42161481858.0, 24450604877.0, 19922723709.0]\n",
      "251    6.386000e+11\n",
      "81     8.656196e+10\n",
      "77     8.475920e+10\n",
      "119    6.949813e+10\n",
      "116    5.771074e+10\n",
      "           ...     \n",
      "257             NaN\n",
      "258             NaN\n",
      "260             NaN\n",
      "261             NaN\n",
      "262             NaN\n",
      "Name: 1963, Length: 216, dtype: float64\n",
      "[638600000000.0, 86561961812.0, 84759195106.0, 69498131797.0, 57710743060.0, 50706799903.0, 48421923459.0, 45029988561.0, 23287712878.0, 21539926084.0]\n",
      "251    6.858000e+11\n",
      "81     9.440756e+10\n",
      "77     9.400785e+10\n",
      "119    8.174901e+10\n",
      "116    6.317542e+10\n",
      "           ...     \n",
      "257             NaN\n",
      "258             NaN\n",
      "260             NaN\n",
      "261             NaN\n",
      "262             NaN\n",
      "Name: 1964, Length: 216, dtype: float64\n",
      "[685800000000.0, 94407558351.0, 94007851047.0, 81749006382.0, 63175417019.0, 59708343489.0, 56480289941.0, 49377522897.0, 25605249382.0, 23801097547.0]\n",
      "251    7.437000e+11\n",
      "81     1.018248e+11\n",
      "77     1.015372e+11\n",
      "119    9.095028e+10\n",
      "40     7.043627e+10\n",
      "           ...     \n",
      "257             NaN\n",
      "258             NaN\n",
      "260             NaN\n",
      "261             NaN\n",
      "262             NaN\n",
      "Name: 1965, Length: 216, dtype: float64\n",
      "[743700000000.0, 101824755079.0, 101537248148.0, 90950278258.0, 70436266147.0, 67978153851.0, 59554854576.0, 54515179581.0, 28344705967.0, 25977153097.0]\n",
      "251    8.150000e+11\n",
      "77     1.100459e+11\n",
      "81     1.085728e+11\n",
      "119    1.056281e+11\n",
      "40     7.672029e+10\n",
      "           ...     \n",
      "257             NaN\n",
      "258             NaN\n",
      "260             NaN\n",
      "261             NaN\n",
      "262             NaN\n",
      "Name: 1966, Length: 216, dtype: float64\n",
      "[815000000000.0, 110045852178.0, 108572752102.0, 105628070343.0, 76720285970.0, 73654870011.0, 61088384037.0, 45865462034.0, 28721062242.0, 28630474728.0]\n",
      "251    8.617000e+11\n",
      "119    1.237819e+11\n",
      "77     1.189730e+11\n",
      "81     1.131169e+11\n",
      "116    8.113312e+10\n",
      "           ...     \n",
      "257             NaN\n",
      "258             NaN\n",
      "260             NaN\n",
      "261             NaN\n",
      "262             NaN\n",
      "Name: 1967, Length: 216, dtype: float64\n",
      "[861700000000.0, 123781880218.0, 118972977486.0, 113116888211.0, 81133120065.0, 72881631327.0, 65668655501.0, 50134942204.0, 31647119228.0, 31086389195.0]\n",
      "251    9.425000e+11\n",
      "119    1.466011e+11\n",
      "77     1.297854e+11\n",
      "81     1.077599e+11\n",
      "116    8.794223e+10\n",
      "           ...     \n",
      "257             NaN\n",
      "258             NaN\n",
      "260             NaN\n",
      "261             NaN\n",
      "262             NaN\n",
      "Name: 1968, Length: 216, dtype: float64\n",
      "[942500000000.0, 146601072686.0, 129785441507.0, 107759910068.0, 87942231678.0, 71829810520.0, 70846535056.0, 53085455871.0, 33930457425.0, 32716989584.0]\n",
      "251    1.019900e+12\n",
      "119    1.722042e+11\n",
      "77     1.419031e+11\n",
      "81     1.164647e+11\n",
      "116    9.708508e+10\n",
      "           ...     \n",
      "257             NaN\n",
      "258             NaN\n",
      "260             NaN\n",
      "261             NaN\n",
      "262             NaN\n",
      "Name: 1969, Length: 216, dtype: float64\n",
      "[1019900000000.0, 172204199481.0, 141903068680.0, 116464702803.0, 97085082807.0, 79705906247.0, 79148411662.0, 58447995017.0, 37171640819.0, 36686079068.0]\n",
      "251    1.073303e+12\n",
      "55     2.158384e+11\n",
      "119    2.126092e+11\n",
      "77     1.484564e+11\n",
      "81     1.306719e+11\n",
      "           ...     \n",
      "257             NaN\n",
      "258             NaN\n",
      "260             NaN\n",
      "261             NaN\n",
      "262             NaN\n",
      "Name: 1970, Length: 216, dtype: float64\n",
      "[1073303000000.0, 215838448138.0, 212609187919.0, 148456359986.0, 130671946244.0, 113395315985.0, 92602973434.0, 87896095320.0, 62422483055.0, 42327664794.0]\n",
      "251    1.164850e+12\n",
      "55     2.499851e+11\n",
      "119    2.401518e+11\n",
      "77     1.659666e+11\n",
      "81     1.481139e+11\n",
      "           ...     \n",
      "257             NaN\n",
      "258             NaN\n",
      "260             NaN\n",
      "261             NaN\n",
      "262             NaN\n",
      "Name: 1971, Length: 216, dtype: float64\n",
      "[1164850000000.0, 249985055484.0, 240151807460.0, 165966615366.0, 148113896325.0, 124672365793.0, 99800958648.0, 99271961775.0, 67350988021.0, 48869830902.0]\n",
      "251    1.279110e+12\n",
      "119    3.180313e+11\n",
      "55     2.998015e+11\n",
      "77     2.034941e+11\n",
      "81     1.699650e+11\n",
      "           ...     \n",
      "257             NaN\n",
      "258             NaN\n",
      "260             NaN\n",
      "261             NaN\n",
      "262             NaN\n",
      "Name: 1972, Length: 216, dtype: float64\n",
      "[1279110000000.0, 318031297492.0, 299801542047.0, 203494148244.0, 169965034965.0, 145260039841.0, 113687586299.0, 113082820487.0, 71463193831.0, 59132415221.0]\n",
      "251    1.425376e+12\n",
      "119    4.320827e+11\n",
      "55     3.983740e+11\n",
      "77     2.644299e+11\n",
      "81     1.925380e+11\n",
      "           ...     \n",
      "257             NaN\n",
      "258             NaN\n",
      "260             NaN\n",
      "261             NaN\n",
      "262             NaN\n",
      "Name: 1973, Length: 216, dtype: float64\n",
      "[1425376000000.0, 432082670451.0, 398374021954.0, 264429876252.0, 192537971583.0, 175492055795.0, 138544284709.0, 131321858814.0, 85515269585.0, 83592275863.0]\n",
      "251    1.545243e+12\n",
      "119    4.796260e+11\n",
      "55     4.453035e+11\n",
      "77     2.855524e+11\n",
      "81     2.061314e+11\n",
      "           ...     \n",
      "257             NaN\n",
      "258             NaN\n",
      "260             NaN\n",
      "261             NaN\n",
      "262             NaN\n",
      "Name: 1974, Length: 216, dtype: float64\n",
      "[1545243000000.0, 479625998613.0, 445303484242.0, 285552373159.0, 206131369799.0, 199564489431.0, 160408697342.0, 144182133388.0, 109794519728.0, 99525899116.0]\n",
      "251    1.684904e+12\n",
      "119    5.215419e+11\n",
      "55     4.906365e+11\n",
      "77     3.608322e+11\n",
      "81     2.417566e+11\n",
      "           ...     \n",
      "257             NaN\n",
      "258             NaN\n",
      "260             NaN\n",
      "261             NaN\n",
      "262             NaN\n",
      "Name: 1975, Length: 216, dtype: float64\n",
      "[1684904000000.0, 521541905673.0, 490636517211.0, 360832186018.0, 241756637168.0, 227695851127.0, 173834029689.0, 163431551780.0, 129203555239.0, 114777046377.0]\n",
      "251    1.873412e+12\n",
      "119    5.861619e+11\n",
      "55     5.197545e+11\n",
      "77     3.723190e+11\n",
      "81     2.326146e+11\n",
      "           ...     \n",
      "257             NaN\n",
      "258             NaN\n",
      "260             NaN\n",
      "261             NaN\n",
      "262             NaN\n",
      "Name: 1976, Length: 216, dtype: float64\n",
      "[1873412000000.0, 586161859000.0, 519754453161.0, 372319038514.0, 232614555256.0, 224717278437.0, 206575564909.0, 153940455342.0, 153168949208.0, 118507184780.0]\n",
      "251    2.081826e+12\n",
      "119    7.214118e+11\n",
      "55     6.004982e+11\n",
      "77     4.102795e+11\n",
      "81     2.630665e+11\n",
      "           ...     \n",
      "257             NaN\n",
      "258             NaN\n",
      "260             NaN\n",
      "261             NaN\n",
      "262             NaN\n",
      "Name: 1977, Length: 216, dtype: float64\n",
      "[2081826000000.0, 721411786537.0, 600498238019.0, 410279486494.0, 263066457352.0, 257596313364.0, 211612157029.0, 176344101402.0, 174938098827.0, 132449277108.0]\n",
      "251    2.351599e+12\n",
      "119    1.013612e+12\n",
      "55     7.404700e+11\n",
      "77     5.067078e+11\n",
      "81     3.358830e+11\n",
      "           ...     \n",
      "257             NaN\n",
      "258             NaN\n",
      "260             NaN\n",
      "261             NaN\n",
      "262             NaN\n",
      "Name: 1978, Length: 216, dtype: float64\n",
      "[2351599000000.0, 1013612173519.0, 740469983447.0, 506707848837.0, 335883029722.0, 315058323066.0, 218632867537.0, 200278646124.0, 160599687500.0, 155859695457.0]\n",
      "251    2.627333e+12\n",
      "119    1.055012e+12\n",
      "55     8.813452e+11\n",
      "77     6.139531e+11\n",
      "81     4.389941e+11\n",
      "           ...     \n",
      "256             NaN\n",
      "257             NaN\n",
      "260             NaN\n",
      "261             NaN\n",
      "262             NaN\n",
      "Name: 1979, Length: 216, dtype: float64\n",
      "[2627333000000.0, 1055012119526.0, 881345176609.0, 613953129818.0, 438994070309.0, 393677161501.0, 243072102612.0, 221338204480.0, 214601955875.0, 179669405690.0]\n",
      "251    2.857307e+12\n",
      "119    1.105386e+12\n",
      "55     9.502909e+11\n",
      "77     7.012884e+11\n",
      "81     5.649477e+11\n",
      "           ...     \n",
      "256             NaN\n",
      "257             NaN\n",
      "260             NaN\n",
      "261             NaN\n",
      "262             NaN\n",
      "Name: 1980, Length: 216, dtype: float64\n",
      "[2857307000000.0, 1105385973764.0, 950290856467.0, 701288419745.0, 564947710899.0, 477256775944.0, 273853826548.0, 237393489893.0, 232766822929.0, 205139086957.0]\n",
      "251    3.207041e+12\n",
      "119    1.218989e+12\n",
      "55     8.004721e+11\n",
      "77     6.155522e+11\n",
      "81     5.407657e+11\n",
      "           ...     \n",
      "256             NaN\n",
      "257             NaN\n",
      "260             NaN\n",
      "261             NaN\n",
      "262             NaN\n",
      "Name: 1981, Length: 216, dtype: float64\n",
      "[3207041000000.0, 1218988935130.0, 800472055387.0, 615552202776.0, 540765675241.0, 430702851303.0, 306214863625.0, 263959336735.0, 258015174749.0, 202807891512.0]\n",
      "251    3.343789e+12\n",
      "119    1.134518e+12\n",
      "55     7.765764e+11\n",
      "77     5.848777e+11\n",
      "81     5.150489e+11\n",
      "           ...     \n",
      "255             NaN\n",
      "256             NaN\n",
      "257             NaN\n",
      "261             NaN\n",
      "262             NaN\n",
      "Name: 1982, Length: 216, dtype: float64\n",
      "[3343789000000.0, 1134518001885.0, 776576439107.0, 584877732309.0, 515048916841.0, 427272645669.0, 313506525087.0, 271314113768.0, 205089699859.0, 200715145363.0]\n",
      "251    3.634038e+12\n",
      "119    1.243324e+12\n",
      "55     7.706843e+11\n",
      "77     5.598692e+11\n",
      "81     4.896180e+11\n",
      "           ...     \n",
      "255             NaN\n",
      "256             NaN\n",
      "257             NaN\n",
      "261             NaN\n",
      "262             NaN\n",
      "Name: 1983, Length: 216, dtype: float64\n",
      "[3634038000000.0, 1243323592059.0, 770684323248.0, 559869179792.0, 489618008186.0, 443042373789.0, 340547711782.0, 230686747153.0, 218262273407.0, 189656506321.0]\n",
      "251    4.037613e+12\n",
      "119    1.318382e+12\n",
      "55     7.251111e+11\n",
      "77     5.306838e+11\n",
      "81     4.614871e+11\n",
      "           ...     \n",
      "255             NaN\n",
      "256             NaN\n",
      "257             NaN\n",
      "261             NaN\n",
      "262             NaN\n",
      "Name: 1984, Length: 216, dtype: float64\n",
      "[4037613000000.0, 1318381627004.0, 725111123634.0, 530683779929.0, 461487097632.0, 437887689002.0, 355372558104.0, 259946510957.0, 212158234167.0, 193593551893.0]\n",
      "251    4.338979e+12\n",
      "119    1.398893e+12\n",
      "55     7.325349e+11\n",
      "77     5.531384e+11\n",
      "81     4.892852e+11\n",
      "           ...     \n",
      "252             NaN\n",
      "255             NaN\n",
      "256             NaN\n",
      "261             NaN\n",
      "262             NaN\n",
      "Name: 1985, Length: 216, dtype: float64\n",
      "[4338979000000.0, 1398892744821.0, 732534887058.0, 553138414367.0, 489285164271.0, 452217492141.0, 364756499451.0, 309488028133.0, 232511877842.0, 195219789801.0]\n",
      "251    4.579631e+12\n",
      "119    2.078953e+12\n",
      "55     1.046259e+12\n",
      "77     7.714708e+11\n",
      "116    6.403864e+11\n",
      "           ...     \n",
      "252             NaN\n",
      "255             NaN\n",
      "256             NaN\n",
      "261             NaN\n",
      "262             NaN\n",
      "Name: 1986, Length: 216, dtype: float64\n",
      "[4579631000000.0, 2078953333674.0, 1046259374944.0, 771470783218.0, 640386352773.0, 601452653181.0, 377437927312.0, 300758100107.0, 251321075205.0, 248985994041.0]\n",
      "251    4.855215e+12\n",
      "119    2.532809e+12\n",
      "55     1.298176e+12\n",
      "77     9.341733e+11\n",
      "116    8.057131e+11\n",
      "           ...     \n",
      "252             NaN\n",
      "255             NaN\n",
      "256             NaN\n",
      "261             NaN\n",
      "262             NaN\n",
      "Name: 1987, Length: 216, dtype: float64\n",
      "[4855215000000.0, 2532808573157.0, 1298176105550.0, 934173305686.0, 805713128174.0, 745162608269.0, 431316742081.0, 318747935588.0, 279033584092.0, 272972974765.0]\n",
      "251    5.236438e+12\n",
      "119    3.071683e+12\n",
      "55     1.401233e+12\n",
      "77     1.018847e+12\n",
      "81     9.101227e+11\n",
      "           ...     \n",
      "252             NaN\n",
      "255             NaN\n",
      "256             NaN\n",
      "261             NaN\n",
      "262             NaN\n",
      "Name: 1988, Length: 216, dtype: float64\n",
      "[5236438000000.0, 3071683013179.0, 1401233225303.0, 1018847043277.0, 910122732124.0, 891608957156.0, 554713455150.0, 507354351182.0, 376160409941.0, 312353631208.0]\n",
      "251    5.641580e+12\n",
      "119    3.054914e+12\n",
      "55     1.398967e+12\n",
      "77     1.025212e+12\n",
      "116    9.286613e+11\n",
      "           ...     \n",
      "252             NaN\n",
      "255             NaN\n",
      "256             NaN\n",
      "261             NaN\n",
      "262             NaN\n",
      "Name: 1989, Length: 216, dtype: float64\n",
      "[5641580000000.0, 3054914166263.0, 1398967436804.0, 1025211803414.0, 928661332204.0, 926884816754.0, 565055743243.0, 506500173960.0, 414757056922.0, 347768051312.0]\n",
      "251    5.963144e+12\n",
      "119    3.132818e+12\n",
      "55     1.771671e+12\n",
      "77     1.269180e+12\n",
      "116    1.181223e+12\n",
      "           ...     \n",
      "228             NaN\n",
      "237             NaN\n",
      "255             NaN\n",
      "256             NaN\n",
      "261             NaN\n",
      "Name: 1990, Length: 216, dtype: float64\n",
      "[5963144000000.0, 3132817652848.0, 1771671206876.0, 1269179616914.0, 1181222653523.0, 1093169389205.0, 593929550908.0, 536558591250.0, 516814274022.0, 390725626003.0]\n",
      "251    6.158129e+12\n",
      "119    3.584420e+12\n",
      "55     1.868945e+12\n",
      "77     1.269277e+12\n",
      "116    1.246220e+12\n",
      "           ...     \n",
      "228             NaN\n",
      "237             NaN\n",
      "255             NaN\n",
      "256             NaN\n",
      "261             NaN\n",
      "Name: 1991, Length: 216, dtype: float64\n",
      "[6158129000000.0, 3584420077101.0, 1868945197407.0, 1269276828276.0, 1246220156079.0, 1142797178131.0, 610328183643.0, 577166174540.0, 517962962963.0, 383373318084.0]\n",
      "251    6.520327e+12\n",
      "119    3.908809e+12\n",
      "55     2.131572e+12\n",
      "77     1.401466e+12\n",
      "116    1.320162e+12\n",
      "           ...     \n",
      "228             NaN\n",
      "237             NaN\n",
      "255             NaN\n",
      "256             NaN\n",
      "261             NaN\n",
      "Name: 1992, Length: 216, dtype: float64\n",
      "[6520327000000.0, 3908809463464.0, 2131571696932.0, 1401465923172.0, 1320161644933.0, 1179659529660.0, 630916018203.0, 592387689253.0, 460290556901.0, 426915712716.0]\n",
      "251    6.858559e+12\n",
      "119    4.454144e+12\n",
      "55     2.071324e+12\n",
      "77     1.322816e+12\n",
      "116    1.064958e+12\n",
      "           ...     \n",
      "228             NaN\n",
      "237             NaN\n",
      "255             NaN\n",
      "256             NaN\n",
      "261             NaN\n",
      "Name: 1993, Length: 216, dtype: float64\n",
      "[6858559000000.0, 4454143876947.0, 2071323790370.0, 1322815612694.0, 1064958075551.0, 1061388722256.0, 577170761956.0, 525075636031.0, 500736065605.0, 444731282436.0]\n",
      "251    7.287236e+12\n",
      "119    4.998798e+12\n",
      "55     2.205074e+12\n",
      "77     1.393983e+12\n",
      "81     1.140490e+12\n",
      "           ...     \n",
      "228             NaN\n",
      "237             NaN\n",
      "255             NaN\n",
      "256             NaN\n",
      "261             NaN\n",
      "Name: 1994, Length: 216, dtype: float64\n",
      "[7287236000000.0, 4998797547741.0, 2205074123177.0, 1393982750473.0, 1140489745944.0, 1099216688281.0, 578139279438.0, 564324670008.0, 530562634455.0, 527813238126.0]\n",
      "251    7.639749e+12\n",
      "119    5.545564e+12\n",
      "55     2.585792e+12\n",
      "77     1.601095e+12\n",
      "81     1.346423e+12\n",
      "           ...     \n",
      "228             NaN\n",
      "237             NaN\n",
      "255             NaN\n",
      "256             NaN\n",
      "261             NaN\n",
      "Name: 1995, Length: 216, dtype: float64\n",
      "[7639749000000.0, 5545563663890.0, 2585792275147.0, 1601094756210.0, 1346422597444.0, 1174662070605.0, 769333330369.0, 734547898224.0, 614609020550.0, 604031623433.0]\n",
      "251    8.073122e+12\n",
      "119    4.923392e+12\n",
      "55     2.497245e+12\n",
      "77     1.605675e+12\n",
      "81     1.421515e+12\n",
      "           ...     \n",
      "228             NaN\n",
      "237             NaN\n",
      "255             NaN\n",
      "256             NaN\n",
      "261             NaN\n",
      "Name: 1996, Length: 216, dtype: float64\n",
      "[8073122000000.0, 4923391533852.0, 2497244606187.0, 1605675086550.0, 1421514820593.0, 1312426527795.0, 863746717507.0, 850426433004.0, 642588992513.0, 628546387972.0]\n",
      "251    8.577554e+12\n",
      "119    4.492449e+12\n",
      "55     2.211990e+12\n",
      "81     1.559569e+12\n",
      "77     1.452885e+12\n",
      "           ...     \n",
      "228             NaN\n",
      "237             NaN\n",
      "255             NaN\n",
      "256             NaN\n",
      "261             NaN\n",
      "Name: 1997, Length: 216, dtype: float64\n",
      "[8577554457000.0, 4492448605639.0, 2211989623280.0, 1559569417158.0, 1452884917959.0, 1241879604366.0, 961603952954.0, 883206452795.0, 654986999856.0, 590077272727.0]\n",
      "251    9.062818e+12\n",
      "119    4.098363e+12\n",
      "55     2.238991e+12\n",
      "81     1.653392e+12\n",
      "77     1.503109e+12\n",
      "           ...     \n",
      "228             NaN\n",
      "237             NaN\n",
      "255             NaN\n",
      "256             NaN\n",
      "261             NaN\n",
      "Name: 1998, Length: 216, dtype: float64\n",
      "[9062818202000.0, 4098362709531.0, 2238990774703.0, 1653391851606.0, 1503108739159.0, 1270052525928.0, 1029043097559.0, 863711007325.0, 634000000000.0, 619214834614.0]\n",
      "251    9.631174e+12\n",
      "119    4.635982e+12\n",
      "55     2.194945e+12\n",
      "81     1.685763e+12\n",
      "77     1.493152e+12\n",
      "           ...     \n",
      "228             NaN\n",
      "237             NaN\n",
      "255             NaN\n",
      "256             NaN\n",
      "261             NaN\n",
      "Name: 1999, Length: 216, dtype: float64\n",
      "[9631174489000.0, 4635982224064.0, 2194945278873.0, 1685762821550.0, 1493151737698.0, 1252446659834.0, 1093997267277.0, 678412196271.0, 634907542858.0, 600232874043.0]\n",
      "251    1.025095e+13\n",
      "119    4.968359e+12\n",
      "55     1.947982e+12\n",
      "81     1.662127e+12\n",
      "77     1.365640e+12\n",
      "           ...     \n",
      "225             NaN\n",
      "228             NaN\n",
      "255             NaN\n",
      "256             NaN\n",
      "261             NaN\n",
      "Name: 2000, Length: 216, dtype: float64\n",
      "[10250947997000.0, 4968359075957.0, 1947981991012.0, 1662127402028.0, 1365639660792.0, 1211346869600.0, 1146676894210.0, 744773415932.0, 707906744575.0, 655448188259.0]\n",
      "251    1.058193e+13\n",
      "119    4.374712e+12\n",
      "55     1.945791e+12\n",
      "81     1.643908e+12\n",
      "77     1.377657e+12\n",
      "           ...     \n",
      "216             NaN\n",
      "225             NaN\n",
      "255             NaN\n",
      "256             NaN\n",
      "261             NaN\n",
      "Name: 2001, Length: 216, dtype: float64\n",
      "[10581929774000.0, 4374711694091.0, 1945790973803.0, 1643908161796.0, 1377657339291.0, 1339395718863.0, 1168023426056.0, 756706300590.0, 738981792355.0, 627830029412.0]\n",
      "251    1.092911e+13\n",
      "119    4.182846e+12\n",
      "55     2.078485e+12\n",
      "81     1.784077e+12\n",
      "77     1.501409e+12\n",
      "           ...     \n",
      "213             NaN\n",
      "216             NaN\n",
      "225             NaN\n",
      "255             NaN\n",
      "261             NaN\n",
      "Name: 2002, Length: 216, dtype: float64\n",
      "[10929112955000.0, 4182846045874.0, 2078484517475.0, 1784076738609.0, 1501409382971.0, 1470550015078.0, 1276769338449.0, 772106378935.0, 760649334098.0, 708756677089.0]\n",
      "251    1.145644e+13\n",
      "119    4.519562e+12\n",
      "55     2.501640e+12\n",
      "81     2.057094e+12\n",
      "77     1.844545e+12\n",
      "           ...     \n",
      "213             NaN\n",
      "216             NaN\n",
      "225             NaN\n",
      "255             NaN\n",
      "261             NaN\n",
      "Name: 2003, Length: 216, dtype: float64\n",
      "[11456442041000.0, 4519561645254.0, 2501640388482.0, 2057093877551.0, 1844544792037.0, 1660287965664.0, 1577621707051.0, 907491523174.0, 895540646635.0, 729336319677.0]\n",
      "251    1.221719e+13\n",
      "119    4.893116e+12\n",
      "55     2.814354e+12\n",
      "81     2.421814e+12\n",
      "77     2.119633e+12\n",
      "           ...     \n",
      "213             NaN\n",
      "216             NaN\n",
      "225             NaN\n",
      "255             NaN\n",
      "261             NaN\n",
      "Name: 2004, Length: 216, dtype: float64\n",
      "[12217193198000.0, 4893116005657.0, 2814353869359.0, 2421814353717.0, 2119633181634.0, 1955347004966.0, 1806542968546.0, 1069055675274.0, 1026690238278.0, 793175007858.0]\n",
      "251    1.303920e+13\n",
      "119    4.831467e+12\n",
      "55     2.846864e+12\n",
      "81     2.544829e+12\n",
      "40     2.285966e+12\n",
      "           ...     \n",
      "213             NaN\n",
      "216             NaN\n",
      "225             NaN\n",
      "255             NaN\n",
      "261             NaN\n",
      "Name: 2005, Length: 216, dtype: float64\n",
      "[13039199193000.0, 4831467035390.0, 2846864211175.0, 2544829090909.0, 2285965892364.0, 2196945232436.0, 1858217147204.0, 1173108598779.0, 1153715822718.0, 934901071333.0]\n",
      "251    1.381559e+13\n",
      "119    4.601663e+12\n",
      "55     2.994704e+12\n",
      "40     2.752132e+12\n",
      "81     2.717060e+12\n",
      "           ...     \n",
      "213             NaN\n",
      "216             NaN\n",
      "225             NaN\n",
      "255             NaN\n",
      "261             NaN\n",
      "Name: 2006, Length: 216, dtype: float64\n",
      "[13815586948000.0, 4601663122650.0, 2994703642024.0, 2752131773359.0, 2717059797608.0, 2320536221305.0, 1949551719390.0, 1319264809591.0, 1260398977832.0, 1107626711407.0]\n",
      "251    1.447423e+13\n",
      "119    4.579751e+12\n",
      "40     3.550343e+12\n",
      "55     3.425578e+12\n",
      "81     3.106182e+12\n",
      "           ...     \n",
      "213             NaN\n",
      "216             NaN\n",
      "225             NaN\n",
      "255             NaN\n",
      "261             NaN\n",
      "Name: 2007, Length: 216, dtype: float64\n",
      "[14474226905000.0, 4579750920355.0, 3550342737010.0, 3425578382922.0, 3106182472989.0, 2660591246212.0, 2213102482751.0, 1474002579820.0, 1468820407783.0, 1397114247331.0]\n",
      "251    1.476986e+13\n",
      "119    5.106679e+12\n",
      "40     4.594307e+12\n",
      "55     3.745264e+12\n",
      "81     2.938882e+12\n",
      "           ...     \n",
      "193             NaN\n",
      "199             NaN\n",
      "213             NaN\n",
      "225             NaN\n",
      "255             NaN\n",
      "Name: 2008, Length: 216, dtype: float64\n",
      "[14769857911000.0, 5106679115127.0, 4594307032668.0, 3745264093617.0, 2938882352941.0, 2930303780828.0, 2408655348719.0, 1695855391811.0, 1660846387625.0, 1631863493552.0]\n",
      "251    1.447806e+13\n",
      "119    5.289493e+12\n",
      "40     5.101703e+12\n",
      "55     3.411261e+12\n",
      "77     2.700887e+12\n",
      "           ...     \n",
      "193             NaN\n",
      "199             NaN\n",
      "213             NaN\n",
      "225             NaN\n",
      "255             NaN\n",
      "Name: 2009, Length: 216, dtype: float64\n",
      "[14478064934000.0, 5289493117994.0, 5101703073089.0, 3411261212652.0, 2700887366932.0, 2425798410967.0, 2199928804119.0, 1666996294373.0, 1491472923707.0, 1374625142157.0]\n",
      "251    1.504896e+13\n",
      "40     6.087164e+12\n",
      "119    5.759072e+12\n",
      "55     3.399668e+12\n",
      "77     2.645188e+12\n",
      "           ...     \n",
      "193             NaN\n",
      "199             NaN\n",
      "213             NaN\n",
      "225             NaN\n",
      "255             NaN\n",
      "Name: 2010, Length: 216, dtype: float64\n",
      "[15048964444000.0, 6087163874511.0, 5759071769013.0, 3399667820000.0, 2645187882117.0, 2491110093454.0, 2208838108577.0, 2136099955237.0, 1675615335601.0, 1617343367486.0]\n",
      "251    1.559973e+13\n",
      "40     7.551500e+12\n",
      "119    6.233147e+12\n",
      "55     3.749315e+12\n",
      "77     2.865158e+12\n",
      "           ...     \n",
      "84              NaN\n",
      "193             NaN\n",
      "199             NaN\n",
      "213             NaN\n",
      "255             NaN\n",
      "Name: 2011, Length: 216, dtype: float64\n",
      "[15599728123000.0, 7551500124197.0, 6233147172341.0, 3749314991051.0, 2865157541994.0, 2674891473844.0, 2616156606667.0, 2294994296590.0, 2045925608274.0, 1823049927771.0]\n",
      "251    1.625397e+13\n",
      "40     8.532230e+12\n",
      "119    6.272363e+12\n",
      "55     3.527143e+12\n",
      "81     2.719158e+12\n",
      "           ...     \n",
      "147             NaN\n",
      "193             NaN\n",
      "199             NaN\n",
      "213             NaN\n",
      "255             NaN\n",
      "Name: 2012, Length: 216, dtype: float64\n",
      "[16253972230000.0, 8532229986994.0, 6272362996105.0, 3527143188785.0, 2719158341006.0, 2683671716967.0, 2465228293894.0, 2208295773643.0, 2086957656822.0, 1828366481522.0]\n",
      "251    1.684319e+13\n",
      "40     9.570406e+12\n",
      "119    5.212328e+12\n",
      "55     3.733805e+12\n",
      "77     2.811877e+12\n",
      "           ...     \n",
      "84              NaN\n",
      "147             NaN\n",
      "193             NaN\n",
      "199             NaN\n",
      "255             NaN\n",
      "Name: 2013, Length: 216, dtype: float64\n",
      "[16843190993000.0, 9570406235660.0, 5212328181166.0, 3733804649549.0, 2811876903329.0, 2803291406030.0, 2472819362217.0, 2292473246621.0, 2141924094299.0, 1856722121395.0]\n",
      "251    1.755068e+13\n",
      "40     1.047568e+13\n",
      "119    4.896994e+12\n",
      "55     3.889093e+12\n",
      "81     3.087166e+12\n",
      "           ...     \n",
      "69              NaN\n",
      "84              NaN\n",
      "193             NaN\n",
      "199             NaN\n",
      "255             NaN\n",
      "Name: 2014, Length: 216, dtype: float64\n",
      "[17550680174000.0, 10475682920598.0, 4896994405353.0, 3889093051024.0, 3087165602963.0, 2855964488590.0, 2456043766029.0, 2162009615997.0, 2059241965491.0, 2039127446299.0]\n",
      "251    1.820602e+13\n",
      "40     1.106155e+13\n",
      "119    4.444931e+12\n",
      "55     3.357586e+12\n",
      "81     2.956574e+12\n",
      "           ...     \n",
      "84              NaN\n",
      "147             NaN\n",
      "193             NaN\n",
      "254             NaN\n",
      "255             NaN\n",
      "Name: 2015, Length: 216, dtype: float64\n",
      "[18206020741000.0, 11061553079872.0, 4444930651964.0, 3357585719352.0, 2956573778738.0, 2439188643163.0, 2103587813813.0, 1836637711061.0, 1802211999539.0, 1556508816217.0]\n",
      "251    1.869511e+13\n",
      "40     1.123328e+13\n",
      "119    5.003678e+12\n",
      "55     3.469853e+12\n",
      "81     2.722852e+12\n",
      "           ...     \n",
      "147             NaN\n",
      "193             NaN\n",
      "216             NaN\n",
      "254             NaN\n",
      "255             NaN\n",
      "Name: 2016, Length: 216, dtype: float64\n",
      "[18695110842000.0, 11233276536745.0, 5003677627544.0, 3469853463946.0, 2722851958486.0, 2472964344587.0, 2294797980509.0, 1877071687634.0, 1795693265810.0, 1527994741907.0]\n",
      "251    1.947962e+13\n",
      "40     1.231041e+13\n",
      "119    4.930837e+12\n",
      "55     3.690849e+12\n",
      "81     2.699017e+12\n",
      "           ...     \n",
      "147             NaN\n",
      "193             NaN\n",
      "216             NaN\n",
      "254             NaN\n",
      "255             NaN\n",
      "Name: 2017, Length: 216, dtype: float64\n",
      "[19479620056000.0, 12310409370894.0, 4930837369151.0, 3690849152518.0, 2699016715111.0, 2651472946375.0, 2595151045198.0, 2063514688762.0, 1961796197354.0, 1649265644244.0]\n",
      "251    2.052716e+13\n",
      "40     1.389482e+13\n",
      "119    5.037835e+12\n",
      "55     3.977289e+12\n",
      "81     2.900791e+12\n",
      "           ...     \n",
      "147             NaN\n",
      "193             NaN\n",
      "216             NaN\n",
      "254             NaN\n",
      "255             NaN\n",
      "Name: 2018, Length: 216, dtype: float64\n",
      "[20527156026000.0, 13894817549380.0, 5037835383111.0, 3977289455388.0, 2900791442554.0, 2790956878747.0, 2702929718960.0, 2091932426267.0, 1916933708382.0, 1725329192783.0]\n",
      "251    2.137257e+13\n",
      "40     1.427994e+13\n",
      "119    5.123318e+12\n",
      "55     3.888327e+12\n",
      "81     2.878674e+12\n",
      "           ...     \n",
      "216             NaN\n",
      "225             NaN\n",
      "227             NaN\n",
      "254             NaN\n",
      "255             NaN\n",
      "Name: 2019, Length: 216, dtype: float64\n",
      "[21372572437000.0, 14279937500608.0, 5123318151511.0, 3888326788627.0, 2878673912414.0, 2831552222520.0, 2728870246706.0, 2011285742552.0, 1873288158977.0, 1742015045482.0]\n",
      "251    2.089374e+13\n",
      "40     1.468767e+13\n",
      "119    5.040108e+12\n",
      "55     3.846414e+12\n",
      "81     2.756900e+12\n",
      "           ...     \n",
      "225             NaN\n",
      "227             NaN\n",
      "235             NaN\n",
      "254             NaN\n",
      "255             NaN\n",
      "Name: 2020, Length: 216, dtype: float64\n",
      "[20893743833000.0, 14687673892882.0, 5040107754084.0, 3846413928654.0, 2756900214107.0, 2667687951797.0, 2630317731455.0, 1892574064222.0, 1645423407568.0, 1637895802793.0]\n",
      "251    2.299610e+13\n",
      "40     1.773406e+13\n",
      "119    4.937422e+12\n",
      "55     4.223116e+12\n",
      "81     3.186860e+12\n",
      "           ...     \n",
      "235             NaN\n",
      "239             NaN\n",
      "254             NaN\n",
      "255             NaN\n",
      "256             NaN\n",
      "Name: 2021, Length: 216, dtype: float64\n",
      "[22996100000000.0, 17734062645371.0, 4937421880462.0, 4223116205969.0, 3186859739185.0, 3173397590817.0, 2937472757953.0, 2099880198259.0, 1990761609665.0, 1798533915091.0]\n"
     ]
    }
   ],
   "source": [
    "d = {}\n",
    "for i in range(1961,2022):\n",
    "    l = df.sort_values(by=str(i), ascending=False)[str(i)]\n",
    "    print(l)\n",
    "    d[str(i)] = l.head(10).tolist()\n",
    "    print(d[str(i)])\n",
    "df1=pd.DataFrame(d)"
   ]
  },
  {
   "cell_type": "code",
   "execution_count": 12,
   "id": "d3960415",
   "metadata": {},
   "outputs": [
    {
     "name": "stdout",
     "output_type": "stream",
     "text": [
      "           1961          1962          1963          1964          1965  \\\n",
      "0  5.633000e+11  6.051000e+11  6.386000e+11  6.858000e+11  7.437000e+11   \n",
      "1  7.774197e+10  8.124756e+10  8.656196e+10  9.440756e+10  1.018248e+11   \n",
      "2  6.746164e+10  7.560753e+10  8.475920e+10  9.400785e+10  1.015372e+11   \n",
      "3  5.350862e+10  6.072302e+10  6.949813e+10  8.174901e+10  9.095028e+10   \n",
      "4  5.005687e+10  5.038389e+10  5.771074e+10  6.317542e+10  7.043627e+10   \n",
      "5  4.484276e+10  4.720936e+10  5.070680e+10  5.970834e+10  6.797815e+10   \n",
      "6  4.093495e+10  4.222745e+10  4.842192e+10  5.648029e+10  5.955485e+10   \n",
      "7  3.923244e+10  4.216148e+10  4.502999e+10  4.937752e+10  5.451518e+10   \n",
      "8  1.968306e+10  2.445060e+10  2.328771e+10  2.560525e+10  2.834471e+10   \n",
      "9  1.727594e+10  1.992272e+10  2.153993e+10  2.380110e+10  2.597715e+10   \n",
      "\n",
      "           1966          1967          1968          1969          1970  ...  \\\n",
      "0  8.150000e+11  8.617000e+11  9.425000e+11  1.019900e+12  1.073303e+12  ...   \n",
      "1  1.100459e+11  1.237819e+11  1.466011e+11  1.722042e+11  2.158384e+11  ...   \n",
      "2  1.085728e+11  1.189730e+11  1.297854e+11  1.419031e+11  2.126092e+11  ...   \n",
      "3  1.056281e+11  1.131169e+11  1.077599e+11  1.164647e+11  1.484564e+11  ...   \n",
      "4  7.672029e+10  8.113312e+10  8.794223e+10  9.708508e+10  1.306719e+11  ...   \n",
      "5  7.365487e+10  7.288163e+10  7.182981e+10  7.970591e+10  1.133953e+11  ...   \n",
      "6  6.108838e+10  6.566866e+10  7.084654e+10  7.914841e+10  9.260297e+10  ...   \n",
      "7  4.586546e+10  5.013494e+10  5.308546e+10  5.844800e+10  8.789610e+10  ...   \n",
      "8  2.872106e+10  3.164712e+10  3.393046e+10  3.717164e+10  6.242248e+10  ...   \n",
      "9  2.863047e+10  3.108639e+10  3.271699e+10  3.668608e+10  4.232766e+10  ...   \n",
      "\n",
      "           2012          2013          2014          2015          2016  \\\n",
      "0  1.625397e+13  1.684319e+13  1.755068e+13  1.820602e+13  1.869511e+13   \n",
      "1  8.532230e+12  9.570406e+12  1.047568e+13  1.106155e+13  1.123328e+13   \n",
      "2  6.272363e+12  5.212328e+12  4.896994e+12  4.444931e+12  5.003678e+12   \n",
      "3  3.527143e+12  3.733805e+12  3.889093e+12  3.357586e+12  3.469853e+12   \n",
      "4  2.719158e+12  2.811877e+12  3.087166e+12  2.956574e+12  2.722852e+12   \n",
      "5  2.683672e+12  2.803291e+12  2.855964e+12  2.439189e+12  2.472964e+12   \n",
      "6  2.465228e+12  2.472819e+12  2.456044e+12  2.103588e+12  2.294798e+12   \n",
      "7  2.208296e+12  2.292473e+12  2.162010e+12  1.836638e+12  1.877072e+12   \n",
      "8  2.086958e+12  2.141924e+12  2.059242e+12  1.802212e+12  1.795693e+12   \n",
      "9  1.828366e+12  1.856722e+12  2.039127e+12  1.556509e+12  1.527995e+12   \n",
      "\n",
      "           2017          2018          2019          2020          2021  \n",
      "0  1.947962e+13  2.052716e+13  2.137257e+13  2.089374e+13  2.299610e+13  \n",
      "1  1.231041e+13  1.389482e+13  1.427994e+13  1.468767e+13  1.773406e+13  \n",
      "2  4.930837e+12  5.037835e+12  5.123318e+12  5.040108e+12  4.937422e+12  \n",
      "3  3.690849e+12  3.977289e+12  3.888327e+12  3.846414e+12  4.223116e+12  \n",
      "4  2.699017e+12  2.900791e+12  2.878674e+12  2.756900e+12  3.186860e+12  \n",
      "5  2.651473e+12  2.790957e+12  2.831552e+12  2.667688e+12  3.173398e+12  \n",
      "6  2.595151e+12  2.702930e+12  2.728870e+12  2.630318e+12  2.937473e+12  \n",
      "7  2.063515e+12  2.091932e+12  2.011286e+12  1.892574e+12  2.099880e+12  \n",
      "8  1.961796e+12  1.916934e+12  1.873288e+12  1.645423e+12  1.990762e+12  \n",
      "9  1.649266e+12  1.725329e+12  1.742015e+12  1.637896e+12  1.798534e+12  \n",
      "\n",
      "[10 rows x 61 columns]\n"
     ]
    }
   ],
   "source": [
    "print(df1)"
   ]
  },
  {
   "cell_type": "code",
   "execution_count": 13,
   "id": "eaec1585",
   "metadata": {},
   "outputs": [
    {
     "name": "stdout",
     "output_type": "stream",
     "text": [
      "<class 'numpy.float64'>\n"
     ]
    }
   ],
   "source": [
    "print(type(df1.iloc[0, 0]))"
   ]
  },
  {
   "cell_type": "code",
   "execution_count": 14,
   "id": "fcbadd20",
   "metadata": {},
   "outputs": [
    {
     "name": "stdout",
     "output_type": "stream",
     "text": [
      "251    6.158129e+12\n",
      "119    3.584420e+12\n",
      "55     1.868945e+12\n",
      "77     1.269277e+12\n",
      "116    1.246220e+12\n",
      "81     1.142797e+12\n",
      "35     6.103282e+11\n",
      "70     5.771662e+11\n",
      "202    5.179630e+11\n",
      "40     3.833733e+11\n",
      "Name: 1991, dtype: float64\n"
     ]
    }
   ],
   "source": [
    "l = df.sort_values(by='1991', ascending=False)['1991']\n",
    "print(l.head(10))"
   ]
  },
  {
   "cell_type": "markdown",
   "id": "6620ce29",
   "metadata": {},
   "source": [
    "Let's try to plot one line to see whether we will succeed."
   ]
  },
  {
   "cell_type": "code",
   "execution_count": 15,
   "id": "30fc7ead",
   "metadata": {},
   "outputs": [
    {
     "name": "stdout",
     "output_type": "stream",
     "text": [
      "1961    5.633000e+11\n",
      "1962    6.051000e+11\n",
      "1963    6.386000e+11\n",
      "1964    6.858000e+11\n",
      "1965    7.437000e+11\n",
      "            ...     \n",
      "2017    1.947962e+13\n",
      "2018    2.052716e+13\n",
      "2019    2.137257e+13\n",
      "2020    2.089374e+13\n",
      "2021    2.299610e+13\n",
      "Name: 0, Length: 61, dtype: float64\n",
      "<class 'pandas.core.series.Series'>\n"
     ]
    }
   ],
   "source": [
    "s = df1.loc[0]\n",
    "print(s)\n",
    "print(type(s))"
   ]
  },
  {
   "cell_type": "code",
   "execution_count": 16,
   "id": "86acc3ea",
   "metadata": {},
   "outputs": [
    {
     "name": "stdout",
     "output_type": "stream",
     "text": [
      "Index(['1961', '1962', '1963', '1964', '1965', '1966', '1967', '1968', '1969',\n",
      "       '1970', '1971', '1972', '1973', '1974', '1975', '1976', '1977', '1978',\n",
      "       '1979', '1980', '1981', '1982', '1983', '1984', '1985', '1986', '1987',\n",
      "       '1988', '1989', '1990', '1991', '1992', '1993', '1994', '1995', '1996',\n",
      "       '1997', '1998', '1999', '2000', '2001', '2002', '2003', '2004', '2005',\n",
      "       '2006', '2007', '2008', '2009', '2010', '2011', '2012', '2013', '2014',\n",
      "       '2015', '2016', '2017', '2018', '2019', '2020', '2021'],\n",
      "      dtype='object')\n"
     ]
    }
   ],
   "source": [
    "print(s.index)"
   ]
  },
  {
   "cell_type": "code",
   "execution_count": 17,
   "id": "40a01fd7",
   "metadata": {},
   "outputs": [
    {
     "name": "stdout",
     "output_type": "stream",
     "text": [
      "[5.63300000e+11 6.05100000e+11 6.38600000e+11 6.85800000e+11\n",
      " 7.43700000e+11 8.15000000e+11 8.61700000e+11 9.42500000e+11\n",
      " 1.01990000e+12 1.07330300e+12 1.16485000e+12 1.27911000e+12\n",
      " 1.42537600e+12 1.54524300e+12 1.68490400e+12 1.87341200e+12\n",
      " 2.08182600e+12 2.35159900e+12 2.62733300e+12 2.85730700e+12\n",
      " 3.20704100e+12 3.34378900e+12 3.63403800e+12 4.03761300e+12\n",
      " 4.33897900e+12 4.57963100e+12 4.85521500e+12 5.23643800e+12\n",
      " 5.64158000e+12 5.96314400e+12 6.15812900e+12 6.52032700e+12\n",
      " 6.85855900e+12 7.28723600e+12 7.63974900e+12 8.07312200e+12\n",
      " 8.57755446e+12 9.06281820e+12 9.63117449e+12 1.02509480e+13\n",
      " 1.05819298e+13 1.09291130e+13 1.14564420e+13 1.22171932e+13\n",
      " 1.30391992e+13 1.38155869e+13 1.44742269e+13 1.47698579e+13\n",
      " 1.44780649e+13 1.50489644e+13 1.55997281e+13 1.62539722e+13\n",
      " 1.68431910e+13 1.75506802e+13 1.82060207e+13 1.86951108e+13\n",
      " 1.94796201e+13 2.05271560e+13 2.13725724e+13 2.08937438e+13\n",
      " 2.29961000e+13]\n",
      "<class 'numpy.float64'>\n"
     ]
    }
   ],
   "source": [
    "print(s.values)\n",
    "print(type(s.values[0]))"
   ]
  },
  {
   "cell_type": "code",
   "execution_count": 19,
   "id": "3d195db4",
   "metadata": {},
   "outputs": [
    {
     "data": {
      "image/png": "[encoded data removed]",
      "text/plain": [
       "<Figure size 432x288 with 1 Axes>"
      ]
     },
     "metadata": {
      "needs_background": "light"
     },
     "output_type": "display_data"
    }
   ],
   "source": [
    "import matplotlib.pyplot as plt\n",
    "import numpy as np\n",
    "a = np.asarray(s.index, int)\n",
    "p = plt.plot(a, s.values)"
   ]
  },
  {
   "cell_type": "markdown",
   "id": "0cb745d9",
   "metadata": {},
   "source": [
    "We will transpose the dataframe and draw all the lines."
   ]
  },
  {
   "cell_type": "code",
   "execution_count": 20,
   "id": "d81659a7",
   "metadata": {},
   "outputs": [
    {
     "name": "stdout",
     "output_type": "stream",
     "text": [
      "                 0             1             2             3             4  \\\n",
      "1961  5.633000e+11  7.774197e+10  6.746164e+10  5.350862e+10  5.005687e+10   \n",
      "1962  6.051000e+11  8.124756e+10  7.560753e+10  6.072302e+10  5.038389e+10   \n",
      "1963  6.386000e+11  8.656196e+10  8.475920e+10  6.949813e+10  5.771074e+10   \n",
      "1964  6.858000e+11  9.440756e+10  9.400785e+10  8.174901e+10  6.317542e+10   \n",
      "1965  7.437000e+11  1.018248e+11  1.015372e+11  9.095028e+10  7.043627e+10   \n",
      "\n",
      "                 5             6             7             8             9  \n",
      "1961  4.484276e+10  4.093495e+10  3.923244e+10  1.968306e+10  1.727594e+10  \n",
      "1962  4.720936e+10  4.222745e+10  4.216148e+10  2.445060e+10  1.992272e+10  \n",
      "1963  5.070680e+10  4.842192e+10  4.502999e+10  2.328771e+10  2.153993e+10  \n",
      "1964  5.970834e+10  5.648029e+10  4.937752e+10  2.560525e+10  2.380110e+10  \n",
      "1965  6.797815e+10  5.955485e+10  5.451518e+10  2.834471e+10  2.597715e+10  \n"
     ]
    }
   ],
   "source": [
    "t= df1.T\n",
    "print(t.head())"
   ]
  },
  {
   "cell_type": "code",
   "execution_count": 21,
   "id": "4409ac99",
   "metadata": {},
   "outputs": [
    {
     "data": {
      "image/png": "[encoded data removed]",
      "text/plain": [
       "<Figure size 432x288 with 1 Axes>"
      ]
     },
     "metadata": {
      "needs_background": "light"
     },
     "output_type": "display_data"
    }
   ],
   "source": [
    "import matplotlib.pyplot as plt\n",
    "import numpy as np\n",
    "for i in range(10):\n",
    "    s = df1.loc[i]\n",
    "    x = np.asarray(s.index, int)\n",
    "    plt.plot(x, s.values, label=f\"No. {i+1}\") \n",
    "plt.xlabel('Year')\n",
    "plt.ylabel('GDP')\n",
    "plt.legend()   \n",
    "plt.show()"
   ]
  },
  {
   "cell_type": "markdown",
   "id": "83c0f4e1",
   "metadata": {},
   "source": [
    "From the plot, we can tell that after 1990, the difference of GDP all over the world became bigger and bigger."
   ]
  },
  {
   "cell_type": "markdown",
   "id": "33db9c76",
   "metadata": {},
   "source": [
    "Now we want to explore more about China's GDP."
   ]
  },
  {
   "cell_type": "code",
   "execution_count": 22,
   "id": "af2cd556",
   "metadata": {},
   "outputs": [],
   "source": [
    "China = df[df['Country Name']=='China']\n",
    "China_GDP = China[China.columns[5:67]]"
   ]
  },
  {
   "cell_type": "code",
   "execution_count": 23,
   "id": "33dbd000",
   "metadata": {},
   "outputs": [
    {
     "name": "stdout",
     "output_type": "stream",
     "text": [
      "<class 'pandas.core.frame.DataFrame'>\n",
      "            1961          1962          1963          1964          1965  \\\n",
      "40  5.005687e+10  4.720936e+10  5.070680e+10  5.970834e+10  7.043627e+10   \n",
      "\n",
      "            1966          1967          1968          1969          1970  ...  \\\n",
      "40  7.672029e+10  7.288163e+10  7.084654e+10  7.970591e+10  9.260297e+10  ...   \n",
      "\n",
      "            2013          2014          2015          2016          2017  \\\n",
      "40  9.570406e+12  1.047568e+13  1.106155e+13  1.123328e+13  1.231041e+13   \n",
      "\n",
      "            2018          2019          2020          2021          2022  \n",
      "40  1.389482e+13  1.427994e+13  1.468767e+13  1.773406e+13  2.078045e+13  \n",
      "\n",
      "[1 rows x 62 columns]\n"
     ]
    }
   ],
   "source": [
    "print(type(China_GDP))\n",
    "print(China_GDP)"
   ]
  },
  {
   "cell_type": "code",
   "execution_count": 24,
   "id": "0faf73d6",
   "metadata": {},
   "outputs": [
    {
     "data": {
      "image/png": "[encoded data removed]",
      "text/plain": [
       "<Figure size 432x288 with 1 Axes>"
      ]
     },
     "metadata": {
      "needs_background": "light"
     },
     "output_type": "display_data"
    }
   ],
   "source": [
    "import numpy as np\n",
    "x = np.asarray(China_GDP.columns, int)\n",
    "plt.plot(x, China_GDP.iloc[0, :].tolist())\n",
    "plt.show()"
   ]
  },
  {
   "cell_type": "markdown",
   "id": "62f72877",
   "metadata": {},
   "source": [
    "Next we want to analyze China's GDP and increase rate."
   ]
  },
  {
   "cell_type": "code",
   "execution_count": 25,
   "id": "707910ee",
   "metadata": {},
   "outputs": [
    {
     "name": "stdout",
     "output_type": "stream",
     "text": [
      "Int64Index([40], dtype='int64')\n"
     ]
    }
   ],
   "source": [
    "print(China_GDP.index)"
   ]
  },
  {
   "cell_type": "code",
   "execution_count": 26,
   "id": "20d9ebed",
   "metadata": {},
   "outputs": [
    {
     "name": "stdout",
     "output_type": "stream",
     "text": [
      "['nan', '-5.69', '7.41', '17.75', '17.97', '8.92', '-5.00', '-2.79', '12.51', '16.18', '7.77', '13.91', '21.86', '4.07', '13.35', '-5.81', '13.64', '-14.52', '19.22', '7.22', '2.47', '4.71', '12.48', '12.68', '19.06', '-2.82', '-9.24', '14.43', '11.34', '3.76', '6.24', '11.36', '4.17', '26.89', '30.16', '17.59', '11.33', '7.01', '6.31', '10.73', '10.57', '9.79', '12.90', '17.77', '16.91', '20.39', '29.00', '29.40', '11.04', '19.32', '24.06', '12.99', '12.17', '9.46', '5.59', '1.55', '9.59', '12.87', '2.77', '2.86', '20.74', 'nan']\n"
     ]
    }
   ],
   "source": [
    "import numpy as np\n",
    "d1 = [np.nan]\n",
    "for i in range(1962,2022):\n",
    "    l = (China_GDP.loc[40,str(i)]/China_GDP.loc[40,str(i-1)] - 1)*100\n",
    "    d1.append(l)\n",
    "d1.append(np.nan)\n",
    "print([f\"{d:.2f}\" for d in d1])"
   ]
  },
  {
   "cell_type": "code",
   "execution_count": 27,
   "id": "e2a6e07f",
   "metadata": {},
   "outputs": [
    {
     "name": "stdout",
     "output_type": "stream",
     "text": [
      "                       1961          1962          1963          1964  \\\n",
      "40             5.005687e+10  4.720936e+10  5.070680e+10  5.970834e+10   \n",
      "increase_rate           NaN -5.688550e+00  7.408363e+00  1.775214e+01   \n",
      "\n",
      "                       1965          1966          1967          1968  \\\n",
      "40             7.043627e+10  7.672029e+10  7.288163e+10  7.084654e+10   \n",
      "increase_rate  1.796721e+01  8.921569e+00 -5.003442e+00 -2.792331e+00   \n",
      "\n",
      "                       1969          1970  ...          2013          2014  \\\n",
      "40             7.970591e+10  9.260297e+10  ...  9.570406e+12  1.047568e+13   \n",
      "increase_rate  1.250502e+01  1.618082e+01  ...  1.216770e+01  9.459125e+00   \n",
      "\n",
      "                       2015          2016          2017          2018  \\\n",
      "40             1.106155e+13  1.123328e+13  1.231041e+13  1.389482e+13   \n",
      "increase_rate  5.592668e+00  1.552435e+00  9.588768e+00  1.287048e+01   \n",
      "\n",
      "                       2019          2020          2021          2022  \n",
      "40             1.427994e+13  1.468767e+13  1.773406e+13  2.078045e+13  \n",
      "increase_rate  2.771681e+00  2.855309e+00  2.074112e+01           NaN  \n",
      "\n",
      "[2 rows x 62 columns]\n"
     ]
    },
    {
     "name": "stderr",
     "output_type": "stream",
     "text": [
      "C:\\Users\\Chang\\AppData\\Local\\Temp\\ipykernel_29936\\3954162713.py:1: SettingWithCopyWarning: \n",
      "A value is trying to be set on a copy of a slice from a DataFrame\n",
      "\n",
      "See the caveats in the documentation: https://pandas.pydata.org/pandas-docs/stable/user_guide/indexing.html#returning-a-view-versus-a-copy\n",
      "  China_GDP.loc['increase_rate'] = d1\n"
     ]
    }
   ],
   "source": [
    "China_GDP.loc['increase_rate'] = d1\n",
    "print(China_GDP)"
   ]
  },
  {
   "cell_type": "code",
   "execution_count": 28,
   "id": "f1ed53be",
   "metadata": {},
   "outputs": [],
   "source": [
    "China_GDP.index = ['GDP', 'Increase_rate(%)']"
   ]
  },
  {
   "cell_type": "code",
   "execution_count": 29,
   "id": "54fef319",
   "metadata": {},
   "outputs": [
    {
     "name": "stdout",
     "output_type": "stream",
     "text": [
      "                          1962          1963          1964          1965  \\\n",
      "GDP               4.720936e+10  5.070680e+10  5.970834e+10  7.043627e+10   \n",
      "Increase_rate(%) -5.688550e+00  7.408363e+00  1.775214e+01  1.796721e+01   \n",
      "\n",
      "                          1966          1967          1968          1969  \\\n",
      "GDP               7.672029e+10  7.288163e+10  7.084654e+10  7.970591e+10   \n",
      "Increase_rate(%)  8.921569e+00 -5.003442e+00 -2.792331e+00  1.250502e+01   \n",
      "\n",
      "                          1970          1971  ...          2012          2013  \\\n",
      "GDP               9.260297e+10  9.980096e+10  ...  8.532230e+12  9.570406e+12   \n",
      "Increase_rate(%)  1.618082e+01  7.772953e+00  ...  1.298722e+01  1.216770e+01   \n",
      "\n",
      "                          2014          2015          2016          2017  \\\n",
      "GDP               1.047568e+13  1.106155e+13  1.123328e+13  1.231041e+13   \n",
      "Increase_rate(%)  9.459125e+00  5.592668e+00  1.552435e+00  9.588768e+00   \n",
      "\n",
      "                          2018          2019          2020          2021  \n",
      "GDP               1.389482e+13  1.427994e+13  1.468767e+13  1.773406e+13  \n",
      "Increase_rate(%)  1.287048e+01  2.771681e+00  2.855309e+00  2.074112e+01  \n",
      "\n",
      "[2 rows x 60 columns]\n"
     ]
    }
   ],
   "source": [
    "China_GDP_analysis = China_GDP.drop(['1961', '2022'], axis=1)\n",
    "print(China_GDP_analysis)"
   ]
  },
  {
   "cell_type": "code",
   "execution_count": 30,
   "id": "a4cbad6e",
   "metadata": {},
   "outputs": [
    {
     "name": "stdout",
     "output_type": "stream",
     "text": [
      "<class 'list'>\n"
     ]
    }
   ],
   "source": [
    "China_GDP_increase = China_GDP_analysis.loc['Increase_rate(%)'].tolist()\n",
    "print(type(China_GDP_increase))"
   ]
  },
  {
   "cell_type": "markdown",
   "id": "d88dab5e",
   "metadata": {},
   "source": [
    "We want to find when China began to develop really fast. (We set the standard: GDP increase rate exceeded 6% continuously for at least 1 0 years.)"
   ]
  },
  {
   "cell_type": "markdown",
   "id": "58d9e994",
   "metadata": {},
   "source": [
    "We set different way to realize it, and find the most efficient way.(algorithm)"
   ]
  },
  {
   "cell_type": "code",
   "execution_count": 31,
   "id": "62f108a1",
   "metadata": {},
   "outputs": [
    {
     "name": "stdout",
     "output_type": "stream",
     "text": [
      "Sarting from year 1993, GDP began to grow consistently above 6%. The GDP growth of next ten years is [26.89115704137821, 30.164059319537962, 17.58888965517138, 11.329390139906014, 7.013193362800796, 6.312094204030738, 10.726681485693979, 10.570783024789844, 9.79204983022759, 12.902515972973294].\n"
     ]
    }
   ],
   "source": [
    "for i in range(len(China_GDP_increase)-9):\n",
    "    for j in range(10):\n",
    "        if China_GDP_increase[i+j] >= 6:\n",
    "            continue\n",
    "        else:\n",
    "            break\n",
    "    else:\n",
    "        print(f\"Sarting from year {i+1961}, GDP began to grow consistently above 6%. The GDP growth of next ten years is {China_GDP_increase[i:i+10]}.\")\n",
    "        break      \n",
    "   \n",
    "    "
   ]
  },
  {
   "cell_type": "code",
   "execution_count": 32,
   "id": "8c322b39",
   "metadata": {},
   "outputs": [
    {
     "name": "stdout",
     "output_type": "stream",
     "text": [
      "Sarting from year 1993, GDP began to grow consistently above 6%. The GDP growth of next ten years is [26.89115704137821, 30.164059319537962, 17.58888965517138, 11.329390139906014, 7.013193362800796, 6.312094204030738, 10.726681485693979, 10.570783024789844, 9.79204983022759, 12.902515972973294].\n"
     ]
    }
   ],
   "source": [
    "for i in range(len(China_GDP_increase)-9):\n",
    "    for j in range(10):\n",
    "        if China_GDP_increase[i+j] < 6:\n",
    "            break\n",
    "    else:\n",
    "        print(f\"Sarting from year {i+1961}, GDP began to grow consistently above 6%. The GDP growth of next ten years is {China_GDP_increase[i:i+10]}.\")\n",
    "        break      \n",
    "   "
   ]
  },
  {
   "cell_type": "code",
   "execution_count": 33,
   "id": "b8614747",
   "metadata": {},
   "outputs": [
    {
     "name": "stdout",
     "output_type": "stream",
     "text": [
      "Sarting from year 1993, GDP began to grow consistently above 6%. The GDP growth of next ten years is [26.89115704137821, 30.164059319537962, 17.58888965517138, 11.329390139906014, 7.013193362800796, 6.312094204030738, 10.726681485693979, 10.570783024789844, 9.79204983022759, 12.902515972973294].\n"
     ]
    }
   ],
   "source": [
    "for i in range(len(China_GDP_increase)-9):\n",
    "    if all(e>=6 for e in China_GDP_increase[i:i+10]):\n",
    "        print(f\"Sarting from year {i+1961}, GDP began to grow consistently above 6%. The GDP growth of next ten years is {China_GDP_increase[i:i+10]}.\")\n",
    "        break "
   ]
  },
  {
   "cell_type": "code",
   "execution_count": 34,
   "id": "db715525",
   "metadata": {},
   "outputs": [
    {
     "name": "stdout",
     "output_type": "stream",
     "text": [
      "Sarting from year 1993, GDP began to grow consistently above 6%. The GDP growth of next ten years is [26.89115704137821, 30.164059319537962, 17.58888965517138, 11.329390139906014, 7.013193362800796, 6.312094204030738, 10.726681485693979, 10.570783024789844, 9.79204983022759, 12.902515972973294].\n"
     ]
    }
   ],
   "source": [
    "for i in range(len(China_GDP_increase)-9):\n",
    "    for j in range(10):\n",
    "        if China_GDP_increase[i+j] < 6:\n",
    "            break\n",
    "    else:\n",
    "        print(f\"Sarting from year {i+1961}, GDP began to grow consistently above 6%. The GDP growth of next ten years is {China_GDP_increase[i:i+10]}.\")\n",
    "        break "
   ]
  },
  {
   "cell_type": "markdown",
   "id": "04e02426",
   "metadata": {},
   "source": [
    "Below is an efficient way to find the year when China's GDP began to grow consistently above 6%.使用了双指针方法，避免每一列都算10次。"
   ]
  },
  {
   "cell_type": "code",
   "execution_count": 35,
   "id": "608eba89",
   "metadata": {},
   "outputs": [
    {
     "name": "stdout",
     "output_type": "stream",
     "text": [
      "i = 1\n",
      "j = 1\n",
      "j = 2\n",
      "j = 3\n",
      "j = 4\n",
      "i = 6\n",
      "i = 7\n",
      "j = 1\n",
      "j = 2\n",
      "j = 3\n",
      "j = 4\n",
      "j = 5\n",
      "i = 13\n",
      "j = 1\n",
      "i = 15\n",
      "j = 1\n",
      "i = 17\n",
      "j = 1\n",
      "j = 2\n",
      "i = 20\n",
      "i = 21\n",
      "j = 1\n",
      "j = 2\n",
      "j = 3\n",
      "i = 25\n",
      "i = 26\n",
      "j = 1\n",
      "j = 2\n",
      "i = 29\n",
      "j = 1\n",
      "j = 2\n",
      "i = 32\n",
      "j = 1\n",
      "j = 2\n",
      "j = 3\n",
      "j = 4\n",
      "j = 5\n",
      "j = 6\n",
      "j = 7\n",
      "j = 8\n",
      "j = 9\n",
      "j = 10\n",
      "Sarting from year 1993, GDP began to grow consistently above 6%. The GDP growth of next ten years is [26.89115704137821, 30.164059319537962, 17.58888965517138, 11.329390139906014, 7.013193362800796, 6.312094204030738, 10.726681485693979, 10.570783024789844, 9.79204983022759, 12.902515972973294].\n"
     ]
    }
   ],
   "source": [
    "i = 0\n",
    "while i < len(China_GDP_increase)-9:\n",
    "    j = 0\n",
    "    while j < 10:\n",
    "        if China_GDP_increase[i+j] >= 6:\n",
    "            j += 1\n",
    "            print(f\"j = {j}\")\n",
    "        else:\n",
    "            i = i + j + 1\n",
    "            print(f\"i = {i}\")\n",
    "            break\n",
    "    if j == 10:\n",
    "        print(f\"Sarting from year {i+1961}, GDP began to grow consistently above 6%. The GDP growth of next ten years is {China_GDP_increase[i:i+10]}.\")\n",
    "        break "
   ]
  },
  {
   "cell_type": "code",
   "execution_count": 36,
   "id": "817ecdcb",
   "metadata": {},
   "outputs": [
    {
     "name": "stdout",
     "output_type": "stream",
     "text": [
      "<class 'pandas.core.indexes.numeric.Int64Index'>\n",
      "Int64Index([40], dtype='int64')\n",
      "<class 'pandas.core.frame.DataFrame'>\n"
     ]
    }
   ],
   "source": [
    "print(type(China.index))\n",
    "print(China.index)\n",
    "print(type(China))"
   ]
  },
  {
   "cell_type": "code",
   "execution_count": 37,
   "id": "0f699138",
   "metadata": {},
   "outputs": [
    {
     "name": "stdout",
     "output_type": "stream",
     "text": [
      "<class 'numpy.float64'>\n",
      "19.316310402700854\n"
     ]
    }
   ],
   "source": [
    "China_increase_rate = (China.loc[40,'2010']/China.loc[40,'2009'] - 1)*100\n",
    "print(type(China_increase_rate))\n",
    "print(China_increase_rate)"
   ]
  },
  {
   "cell_type": "markdown",
   "id": "a0fc7fe1",
   "metadata": {},
   "source": [
    "We try to find a general way to get the GDP increase rate of an input country in an input country."
   ]
  },
  {
   "cell_type": "code",
   "execution_count": 40,
   "id": "9f02c9bb",
   "metadata": {},
   "outputs": [
    {
     "name": "stdout",
     "output_type": "stream",
     "text": [
      "Enter the country name: China\n",
      "Enter the year: 2017\n",
      "40\n",
      "<class 'pandas.core.frame.DataFrame'>\n",
      "<class 'numpy.float64'>\n",
      "9.588768073372078\n",
      "<class 'numpy.float64'>\n",
      "The GDP increase rate of China in 2017 is 9.588768073372078%.\n"
     ]
    }
   ],
   "source": [
    "country = input(\"Enter the country name: \")\n",
    "Country_Column = df[df['Country Name']==country]\n",
    "Country_GDP = Country_Column[Country_Column.columns[5:67]]\n",
    "year = int(input(\"Enter the year: \"))\n",
    "i = Country_GDP.index[0]\n",
    "print(i)\n",
    "increase_rate = (Country_GDP.loc[i,str(year)]/Country_GDP.loc[i,str(year-1)] - 1)*100\n",
    "print(type(Country_GDP))\n",
    "print(type(Country_GDP.loc[i,str(year)]))\n",
    "print(increase_rate)\n",
    "print(type(increase_rate))\n",
    "print(f\"The GDP increase rate of {country} in {year} is {increase_rate}%.\")"
   ]
  },
  {
   "cell_type": "markdown",
   "id": "70d45386",
   "metadata": {},
   "source": [
    "We want to see when China will exceed China if we give input increase rate."
   ]
  },
  {
   "cell_type": "code",
   "execution_count": 41,
   "id": "f2e06d9b",
   "metadata": {},
   "outputs": [
    {
     "name": "stdout",
     "output_type": "stream",
     "text": [
      "Enter the increase rate of China(%): 5.6\n",
      "Enter the increase rate of US(%): 2.5\n",
      "In 2036, China will exceed US and be No.1.\n"
     ]
    }
   ],
   "source": [
    "import math\n",
    "increase_rate_China = float(input(\"Enter the increase rate of China(%): \"))\n",
    "increase_rate_US = float(input(\"Enter the increase rate of US(%): \"))  \n",
    "China_GDP_2021 = df[df['Country Name']=='China'].iloc[0, 65]\n",
    "US_GDP_2021 = df[df['Country Name']=='United States'].iloc[0, 65]\n",
    "a = math.log(US_GDP_2021/China_GDP_2021)\n",
    "b = math.log((1+increase_rate_China/100)/(1+increase_rate_US/100))\n",
    "year = int(a/b)\n",
    "print(f\"In {(year+2021)}, China will exceed US and be No.1.\")"
   ]
  },
  {
   "cell_type": "markdown",
   "id": "40d178fa",
   "metadata": {},
   "source": [
    "We want to see the result if we give input countries, increase rate and year."
   ]
  },
  {
   "cell_type": "code",
   "execution_count": 63,
   "id": "59834d83",
   "metadata": {},
   "outputs": [
    {
     "data": {
      "text/plain": [
       "4.420137405395508"
      ]
     },
     "execution_count": 63,
     "metadata": {},
     "output_type": "execute_result"
    }
   ],
   "source": [
    "def binary_search(A_GDP_2021, B_GDP_2021, X, year):\n",
    "    low = 0\n",
    "    high = 100\n",
    "    while abs(high - low) >= 10**(-4):\n",
    "        mid = (low + high)/2\n",
    "        if A_GDP_2021*(1 + mid/100)**(year-2021) < B_GDP_2021*(1 + X/100)**(year-2021):\n",
    "            low = mid\n",
    "        else:\n",
    "            high = mid\n",
    "    if high >= low:\n",
    "        return (high+low)/2\n",
    "binary_search(China_GDP_2021, US_GDP_2021, 2.5, 2035)"
   ]
  },
  {
   "cell_type": "code",
   "execution_count": 62,
   "id": "fd886a94",
   "metadata": {},
   "outputs": [
    {
     "data": {
      "text/plain": [
       "4.4200897216796875"
      ]
     },
     "execution_count": 62,
     "metadata": {},
     "output_type": "execute_result"
    }
   ],
   "source": [
    "def binary_search(A_GDP_2021, B_GDP_2021, X, year):\n",
    "    low = 0\n",
    "    high = 100\n",
    "    while abs(high - low) >= 10**(-3):\n",
    "        mid = (low + high)/2\n",
    "        if A_GDP_2021*(1 + mid/100)**(year-2021) < B_GDP_2021*(1 + X/100)**(year-2021):\n",
    "            low = mid\n",
    "#             print(f\"low = {low}, high = {high}\")\n",
    "        else:\n",
    "            high = mid\n",
    "#             print(f\"low = {low}, high = {high}\")\n",
    "    if high >= low:\n",
    "        return (high+low)/2\n",
    "binary_search(China_GDP_2021, US_GDP_2021, 2.5, 2035)"
   ]
  },
  {
   "cell_type": "markdown",
   "id": "78b9ca1a",
   "metadata": {},
   "source": [
    "We want to write more to see whether our above analysis is right."
   ]
  },
  {
   "cell_type": "code",
   "execution_count": 44,
   "id": "8354d05f",
   "metadata": {},
   "outputs": [
    {
     "name": "stdout",
     "output_type": "stream",
     "text": [
      "Enter the country name: China\n",
      "Enter the country name: United States\n",
      "Enter the increase rate of United States(%): 2.5\n",
      "Enter the year: 2015\n",
      "0.7711769667626684\n"
     ]
    }
   ],
   "source": [
    "import math\n",
    "A = input(\"Enter the country name: \")\n",
    "B = input(\"Enter the country name: \")\n",
    "increase_rate_B = float(input(f\"Enter the increase rate of {B}(%): \"))\n",
    "n = int(input(\"Enter the year: \")) - 2021\n",
    "A_GDP_2021 = df[df['Country Name']== A].iloc[0, 65]\n",
    "B_GDP_2021 = df[df['Country Name']== B].iloc[0, 65]\n",
    "a = A_GDP_2021 / B_GDP_2021\n",
    "print(a)"
   ]
  },
  {
   "cell_type": "code",
   "execution_count": 45,
   "id": "ca41bde1",
   "metadata": {},
   "outputs": [
    {
     "name": "stdout",
     "output_type": "stream",
     "text": [
      "0.9802112297599285\n"
     ]
    }
   ],
   "source": [
    "print(math.pow(0.77118, 1/13))"
   ]
  },
  {
   "cell_type": "code",
   "execution_count": 46,
   "id": "a705c858",
   "metadata": {},
   "outputs": [
    {
     "name": "stdout",
     "output_type": "stream",
     "text": [
      "1.0047165105039266\n"
     ]
    }
   ],
   "source": [
    "print(0.9802112297599285 * 1.025)"
   ]
  },
  {
   "cell_type": "code",
   "execution_count": 47,
   "id": "a26cf87d",
   "metadata": {},
   "outputs": [
    {
     "name": "stdout",
     "output_type": "stream",
     "text": [
      "Enter the country name: China\n",
      "Enter the country name: United States\n",
      "Enter the increase rate of United States(%): 2.5\n",
      "Enter the year: 2035\n",
      "If China's GDP will exceed United Statesin 15, the increase rate of China's GDP should be at least 4.420144630946332.\n"
     ]
    }
   ],
   "source": [
    "import math\n",
    "A = input(\"Enter the country name: \")\n",
    "B = input(\"Enter the country name: \")\n",
    "increase_rate_B = float(input(f\"Enter the increase rate of {B}(%): \"))\n",
    "n = int(input(\"Enter the year: \")) - 2021\n",
    "A_GDP_2021 = df[df['Country Name']== A].iloc[0, 65]\n",
    "B_GDP_2021 = df[df['Country Name']== B].iloc[0, 65]\n",
    "a = B_GDP_2021 / A_GDP_2021\n",
    "e = math.pow(a, 1/n)\n",
    "c = e * (1 + increase_rate_B / 100)\n",
    "increase_rate_A = (c - 1) * 100\n",
    "print(f\"If {A}'s GDP will exceed {B}in {year}, the increase rate of {A}'s GDP should be at least {increase_rate_A}.\")"
   ]
  },
  {
   "cell_type": "code",
   "execution_count": 48,
   "id": "d54f7b47",
   "metadata": {},
   "outputs": [],
   "source": [
    "China_GDP_2021 = df[df['Country Name']=='China'].iloc[0, 65]\n",
    "US_GDP_2021 = df[df['Country Name']=='United States'].iloc[0, 65]"
   ]
  },
  {
   "cell_type": "markdown",
   "id": "f1708568",
   "metadata": {},
   "source": [
    "We want to visualize the two method to see whether they are right."
   ]
  },
  {
   "cell_type": "code",
   "execution_count": 59,
   "id": "805bc7e6",
   "metadata": {},
   "outputs": [
    {
     "data": {
      "image/png": "[encoded data removed]",
      "text/plain": [
       "<Figure size 432x288 with 1 Axes>"
      ]
     },
     "metadata": {
      "needs_background": "light"
     },
     "output_type": "display_data"
    }
   ],
   "source": [
    "index_list = []\n",
    "value_listA, value_listB = [], []\n",
    "for i in range(20):\n",
    "    index_list.append(int(i+2021))\n",
    "    GDP_future_A = China_GDP_2021 * (1.044201446309**i)\n",
    "    value_listA.append(GDP_future_A)\n",
    "    GDP_future_B = US_GDP_2021 * (1.025**i)\n",
    "    value_listB.append(GDP_future_B)\n",
    "x = np.asarray(index_list, int)    \n",
    "plt.plot(x, value_listA, label=f\"China future GDP\") \n",
    "plt.plot(x, value_listB, label=f\"US future GDP\") \n",
    "plt.xlabel('Year')\n",
    "plt.ylabel('GDP')\n",
    "plt.legend()   \n",
    "plt.show()"
   ]
  },
  {
   "cell_type": "code",
   "execution_count": 64,
   "id": "e22ba524",
   "metadata": {},
   "outputs": [
    {
     "name": "stdout",
     "output_type": "stream",
     "text": [
      "['2021-01-01T00:00:00.000000000' '2022-01-01T00:00:00.000000000'\n",
      " '2023-01-01T00:00:00.000000000' '2024-01-01T00:00:00.000000000'\n",
      " '2025-01-01T00:00:00.000000000' '2026-01-01T00:00:00.000000000'\n",
      " '2027-01-01T00:00:00.000000000' '2028-01-01T00:00:00.000000000'\n",
      " '2029-01-01T00:00:00.000000000' '2030-01-01T00:00:00.000000000'\n",
      " '2031-01-01T00:00:00.000000000' '2032-01-01T00:00:00.000000000'\n",
      " '2033-01-01T00:00:00.000000000' '2034-01-01T00:00:00.000000000'\n",
      " '2035-01-01T00:00:00.000000000' '2036-01-01T00:00:00.000000000'\n",
      " '2037-01-01T00:00:00.000000000' '2038-01-01T00:00:00.000000000'\n",
      " '2039-01-01T00:00:00.000000000' '2040-01-01T00:00:00.000000000']\n"
     ]
    },
    {
     "data": {
      "image/png": "[encoded data removed]",
      "text/plain": [
       "<Figure size 432x288 with 1 Axes>"
      ]
     },
     "metadata": {
      "needs_background": "light"
     },
     "output_type": "display_data"
    }
   ],
   "source": [
    "index_list = []\n",
    "value_listA, value_listB = [], []\n",
    "for i in range(20):\n",
    "    index_list.append(int(i+2021))\n",
    "    GDP_future_A = China_GDP_2021 * (1.059**i)\n",
    "    value_listA.append(GDP_future_A)\n",
    "    GDP_future_B = US_GDP_2021 * (1.025**i)\n",
    "    value_listB.append(GDP_future_B)\n",
    "m = np.asarray(index_list, int)\n",
    "x = pd.to_datetime(m.astype(str)).values\n",
    "print(x)\n",
    "plt.plot(x, value_listA, label=f\"China future GDP\") \n",
    "plt.plot(x, value_listB, label=f\"US future GDP\") \n",
    "plt.xlabel('Year')\n",
    "plt.ylabel('GDP')\n",
    "plt.legend()   \n",
    "plt.show()"
   ]
  },
  {
   "cell_type": "markdown",
   "id": "68312401",
   "metadata": {},
   "source": [
    "From the above two plots, we know that the binary_search method is not accurate, and we need to improve it."
   ]
  },
  {
   "cell_type": "markdown",
   "id": "31052d19",
   "metadata": {},
   "source": [
    "We want to use linear regression to predict China's future GDP."
   ]
  },
  {
   "cell_type": "code",
   "execution_count": 65,
   "id": "c20ac436",
   "metadata": {},
   "outputs": [
    {
     "name": "stdout",
     "output_type": "stream",
     "text": [
      "<class 'pandas.core.frame.DataFrame'>\n",
      "Index: 2 entries, GDP to Increase_rate(%)\n",
      "Data columns (total 62 columns):\n",
      " #   Column  Non-Null Count  Dtype  \n",
      "---  ------  --------------  -----  \n",
      " 0   1961    1 non-null      float64\n",
      " 1   1962    2 non-null      float64\n",
      " 2   1963    2 non-null      float64\n",
      " 3   1964    2 non-null      float64\n",
      " 4   1965    2 non-null      float64\n",
      " 5   1966    2 non-null      float64\n",
      " 6   1967    2 non-null      float64\n",
      " 7   1968    2 non-null      float64\n",
      " 8   1969    2 non-null      float64\n",
      " 9   1970    2 non-null      float64\n",
      " 10  1971    2 non-null      float64\n",
      " 11  1972    2 non-null      float64\n",
      " 12  1973    2 non-null      float64\n",
      " 13  1974    2 non-null      float64\n",
      " 14  1975    2 non-null      float64\n",
      " 15  1976    2 non-null      float64\n",
      " 16  1977    2 non-null      float64\n",
      " 17  1978    2 non-null      float64\n",
      " 18  1979    2 non-null      float64\n",
      " 19  1980    2 non-null      float64\n",
      " 20  1981    2 non-null      float64\n",
      " 21  1982    2 non-null      float64\n",
      " 22  1983    2 non-null      float64\n",
      " 23  1984    2 non-null      float64\n",
      " 24  1985    2 non-null      float64\n",
      " 25  1986    2 non-null      float64\n",
      " 26  1987    2 non-null      float64\n",
      " 27  1988    2 non-null      float64\n",
      " 28  1989    2 non-null      float64\n",
      " 29  1990    2 non-null      float64\n",
      " 30  1991    2 non-null      float64\n",
      " 31  1992    2 non-null      float64\n",
      " 32  1993    2 non-null      float64\n",
      " 33  1994    2 non-null      float64\n",
      " 34  1995    2 non-null      float64\n",
      " 35  1996    2 non-null      float64\n",
      " 36  1997    2 non-null      float64\n",
      " 37  1998    2 non-null      float64\n",
      " 38  1999    2 non-null      float64\n",
      " 39  2000    2 non-null      float64\n",
      " 40  2001    2 non-null      float64\n",
      " 41  2002    2 non-null      float64\n",
      " 42  2003    2 non-null      float64\n",
      " 43  2004    2 non-null      float64\n",
      " 44  2005    2 non-null      float64\n",
      " 45  2006    2 non-null      float64\n",
      " 46  2007    2 non-null      float64\n",
      " 47  2008    2 non-null      float64\n",
      " 48  2009    2 non-null      float64\n",
      " 49  2010    2 non-null      float64\n",
      " 50  2011    2 non-null      float64\n",
      " 51  2012    2 non-null      float64\n",
      " 52  2013    2 non-null      float64\n",
      " 53  2014    2 non-null      float64\n",
      " 54  2015    2 non-null      float64\n",
      " 55  2016    2 non-null      float64\n",
      " 56  2017    2 non-null      float64\n",
      " 57  2018    2 non-null      float64\n",
      " 58  2019    2 non-null      float64\n",
      " 59  2020    2 non-null      float64\n",
      " 60  2021    2 non-null      float64\n",
      " 61  2022    1 non-null      float64\n",
      "dtypes: float64(62)\n",
      "memory usage: 1.1+ KB\n",
      "None\n"
     ]
    }
   ],
   "source": [
    "print(China_GDP.info())"
   ]
  },
  {
   "cell_type": "markdown",
   "id": "e3d25677",
   "metadata": {},
   "source": [
    "Because we use linear regression, we only slicing the data from 2000 to 2021."
   ]
  },
  {
   "cell_type": "code",
   "execution_count": 66,
   "id": "bd2db39d",
   "metadata": {},
   "outputs": [],
   "source": [
    "f =  China_GDP.columns.get_loc('2000') \n",
    "g =  China_GDP.columns.get_loc('2022')"
   ]
  },
  {
   "cell_type": "code",
   "execution_count": 68,
   "id": "bcd2ebbb",
   "metadata": {},
   "outputs": [
    {
     "name": "stdout",
     "output_type": "stream",
     "text": [
      "<class 'pandas.core.indexes.base.Index'>\n"
     ]
    }
   ],
   "source": [
    "print(type(China_GDP.columns))"
   ]
  },
  {
   "cell_type": "code",
   "execution_count": 74,
   "id": "32018dbe",
   "metadata": {},
   "outputs": [],
   "source": [
    "import matplotlib.pyplot as plt\n",
    "from scipy import stats\n",
    "China_GDP_from2000 = China_GDP.iloc[0, f:g]\n",
    "a = np.asarray(China_GDP.columns[f:g], int)\n",
    "x = a.tolist()\n",
    "y = China_GDP_from2000.tolist()\n"
   ]
  },
  {
   "cell_type": "code",
   "execution_count": 75,
   "id": "78c5cd3f",
   "metadata": {},
   "outputs": [
    {
     "name": "stdout",
     "output_type": "stream",
     "text": [
      "[2000, 2001, 2002, 2003, 2004, 2005, 2006, 2007, 2008, 2009, 2010, 2011, 2012, 2013, 2014, 2015, 2016, 2017, 2018, 2019, 2020, 2021]\n"
     ]
    }
   ],
   "source": [
    "print(x)"
   ]
  },
  {
   "cell_type": "code",
   "execution_count": 76,
   "id": "c6f7821d",
   "metadata": {},
   "outputs": [
    {
     "data": {
      "image/png": "[encoded data removed]",
      "text/plain": [
       "<Figure size 432x288 with 1 Axes>"
      ]
     },
     "metadata": {
      "needs_background": "light"
     },
     "output_type": "display_data"
    }
   ],
   "source": [
    "slope, intercept, r, p, std_err = stats.linregress(x, y)\n",
    "\n",
    "def myfunc(x):\n",
    "  return slope * x + intercept\n",
    "\n",
    "mymodel = list(map(myfunc, x))\n",
    "\n",
    "plt.scatter(x, y)\n",
    "plt.plot(x, mymodel)\n",
    "plt.show()"
   ]
  },
  {
   "cell_type": "markdown",
   "id": "22a22e31",
   "metadata": {},
   "source": [
    "We use polyfit to do curve fitting."
   ]
  },
  {
   "cell_type": "code",
   "execution_count": 83,
   "id": "57d6e2c6",
   "metadata": {},
   "outputs": [],
   "source": [
    "import numpy as np\n",
    "China_GDP_future = China_GDP.iloc[0, :g]\n",
    "a = np.asarray(China_GDP.columns[:g], int)\n",
    "x = a.tolist()\n",
    "y = China_GDP_future.tolist()\n",
    "p = np.polyfit(x, np.log(y), 1)\n",
    "b = China_GDP_future.to_numpy()"
   ]
  },
  {
   "cell_type": "code",
   "execution_count": 84,
   "id": "d00c4a32",
   "metadata": {},
   "outputs": [
    {
     "name": "stdout",
     "output_type": "stream",
     "text": [
      "<class 'numpy.ndarray'>\n",
      "<class 'numpy.ndarray'>\n"
     ]
    }
   ],
   "source": [
    "print(type(a))\n",
    "print(type(b))"
   ]
  },
  {
   "cell_type": "code",
   "execution_count": 94,
   "id": "27085981",
   "metadata": {},
   "outputs": [
    {
     "name": "stdout",
     "output_type": "stream",
     "text": [
      "0.1012768278385151\n"
     ]
    }
   ],
   "source": [
    "c = np.exp(p[1])\n",
    "d = p[0]\n",
    "x_fitted = np.linspace(np.min(x), np.max(x), 100)\n",
    "y_fitted = c * np.exp(d * x_fitted)\n",
    "print(d)"
   ]
  },
  {
   "cell_type": "code",
   "execution_count": 86,
   "id": "b08ea536",
   "metadata": {},
   "outputs": [
    {
     "data": {
      "text/plain": [
       "<matplotlib.legend.Legend at 0x1be4e2640a0>"
      ]
     },
     "execution_count": 86,
     "metadata": {},
     "output_type": "execute_result"
    },
    {
     "data": {
      "image/png": "[encoded data removed]",
      "text/plain": [
       "<Figure size 432x288 with 1 Axes>"
      ]
     },
     "metadata": {
      "needs_background": "light"
     },
     "output_type": "display_data"
    }
   ],
   "source": [
    "import matplotlib.pyplot as plt\n",
    "\n",
    "ax = plt.axes()\n",
    "ax.scatter(x, y, label='Raw data')\n",
    "ax.plot(x_fitted, y_fitted, 'k', label='Fitted curve')\n",
    "ax.set_title('Using polyfit() to fit an exponential function')\n",
    "ax.set_ylabel('y-Values')\n",
    "ax.set_xlabel('x-Values')\n",
    "ax.legend()"
   ]
  },
  {
   "cell_type": "markdown",
   "id": "9373ec6a",
   "metadata": {},
   "source": [
    "Define a function to get the square error."
   ]
  },
  {
   "cell_type": "code",
   "execution_count": 88,
   "id": "908f78e0",
   "metadata": {},
   "outputs": [
    {
     "name": "stdout",
     "output_type": "stream",
     "text": [
      "1.2720869486611481e+26\n"
     ]
    }
   ],
   "source": [
    "e = c * np.exp(d * a)\n",
    "def square_error(b, e):\n",
    "    f = e - b\n",
    "    g = np.square(f)\n",
    "    h= np.sum(g)\n",
    "    return h\n",
    "r1 = square_error(b, e)\n",
    "print(r1)"
   ]
  },
  {
   "cell_type": "markdown",
   "id": "3127487c",
   "metadata": {},
   "source": [
    "We use weight to improve the fit."
   ]
  },
  {
   "cell_type": "code",
   "execution_count": 121,
   "id": "6e72225d",
   "metadata": {},
   "outputs": [
    {
     "data": {
      "text/plain": [
       "<matplotlib.legend.Legend at 0x1be5076ff70>"
      ]
     },
     "execution_count": 121,
     "metadata": {},
     "output_type": "execute_result"
    },
    {
     "data": {
      "image/png": "[encoded data removed]",
      "text/plain": [
       "<Figure size 432x288 with 1 Axes>"
      ]
     },
     "metadata": {
      "needs_background": "light"
     },
     "output_type": "display_data"
    }
   ],
   "source": [
    "# Fit a weighted polynomial of degree 1 (a linear function) to the data\n",
    "p_w = np.polyfit(x, np.log(y), 1, w=np.sqrt(y))\n",
    "\n",
    "# Convert the polynomial back into an exponential\n",
    "a_w = np.exp(p_w[1])\n",
    "b_w = p_w[0]\n",
    "x_fitted_weighted = np.linspace(np.min(x), np.max(x), 100)\n",
    "y_fitted_weighted = a_w * np.exp(b_w * x_fitted_weighted)\n",
    "\n",
    "# Plot\n",
    "ax = plt.axes()\n",
    "ax.scatter(x, y, label='Raw data')\n",
    "ax.plot(x_fitted, y_fitted, 'k', label='Fitted curve, unweighted')\n",
    "ax.plot(x_fitted_weighted, y_fitted_weighted, 'k--', label='Fitted curve, weighted')\n",
    "ax.set_title('Using polyfit() to fit an exponential function')\n",
    "ax.set_ylabel('y-Values')\n",
    "\n",
    "ax.set_xlabel('x-Values')\n",
    "ax.legend()"
   ]
  },
  {
   "cell_type": "markdown",
   "id": "d682906f",
   "metadata": {},
   "source": [
    "Try to calculate the square error of weighted polyfit."
   ]
  },
  {
   "cell_type": "code",
   "execution_count": 122,
   "id": "ec2253b3",
   "metadata": {},
   "outputs": [
    {
     "name": "stdout",
     "output_type": "stream",
     "text": [
      "3.0031077942521076e+25\n"
     ]
    }
   ],
   "source": [
    "e_w = a_w * np.exp(b_w * a)\n",
    "r_polyfit_weighted = square_error(b, e_w)\n",
    "print(r_polyfit_weighted)"
   ]
  },
  {
   "cell_type": "markdown",
   "id": "9184a0b3",
   "metadata": {},
   "source": [
    "Try to calculate the square error of linear regression."
   ]
  },
  {
   "cell_type": "code",
   "execution_count": 90,
   "id": "a36306cb",
   "metadata": {},
   "outputs": [
    {
     "name": "stdout",
     "output_type": "stream",
     "text": [
      "[2000 2001 2002 2003 2004 2005 2006 2007 2008 2009 2010 2011 2012 2013\n",
      " 2014 2015 2016 2017 2018 2019 2020 2021]\n",
      "[1.21134687e+12 1.33939572e+12 1.47055002e+12 1.66028797e+12\n",
      " 1.95534700e+12 2.28596589e+12 2.75213177e+12 3.55034274e+12\n",
      " 4.59430703e+12 5.10170307e+12 6.08716387e+12 7.55150012e+12\n",
      " 8.53222999e+12 9.57040624e+12 1.04756829e+13 1.10615531e+13\n",
      " 1.12332765e+13 1.23104094e+13 1.38948175e+13 1.42799375e+13\n",
      " 1.46876739e+13 1.77340626e+13]\n",
      "<class 'numpy.ndarray'>\n"
     ]
    }
   ],
   "source": [
    "a_l = np.asarray(China_GDP.columns[f:g], int)\n",
    "print(a_l)\n",
    "b_l = China_GDP_from2000.to_numpy()\n",
    "print(b_l)\n",
    "e_l = myfunc(a_l)\n",
    "print(type(e_l))"
   ]
  },
  {
   "cell_type": "code",
   "execution_count": 91,
   "id": "23ca7853",
   "metadata": {},
   "outputs": [
    {
     "name": "stdout",
     "output_type": "stream",
     "text": [
      "1.8063345752247844e+25\n"
     ]
    }
   ],
   "source": [
    "r_l = square_error(b_l, e_l)\n",
    "print(r_l)"
   ]
  },
  {
   "cell_type": "markdown",
   "id": "18ea5946",
   "metadata": {},
   "source": [
    "We use curve_fit to do curve fitting."
   ]
  },
  {
   "cell_type": "code",
   "execution_count": 116,
   "id": "0f1c51b6",
   "metadata": {},
   "outputs": [
    {
     "name": "stdout",
     "output_type": "stream",
     "text": [
      "[-39 -38 -37 -36 -35 -34 -33 -32 -31 -30 -29 -28 -27 -26 -25 -24 -23 -22\n",
      " -21 -20 -19 -18 -17 -16 -15 -14 -13 -12 -11 -10  -9  -8  -7  -6  -5  -4\n",
      "  -3  -2  -1   0   1   2   3   4   5   6   7   8   9  10  11  12  13  14\n",
      "  15  16  17  18  19  20  21]\n",
      "[0.00500569 0.00472094 0.00507068 0.00597083 0.00704363 0.00767203\n",
      " 0.00728816 0.00708465 0.00797059 0.0092603  0.0099801  0.01136876\n",
      " 0.01385443 0.01441821 0.01634316 0.01539405 0.01749381 0.01495408\n",
      " 0.01782806 0.01911492 0.01958664 0.02050897 0.02306867 0.02599465\n",
      " 0.0309488  0.03007581 0.0272973  0.03123536 0.03477681 0.03608579\n",
      " 0.03833733 0.04269157 0.04447313 0.05643247 0.07345479 0.08637467\n",
      " 0.0961604  0.10290431 0.10939973 0.12113469 0.13393957 0.147055\n",
      " 0.1660288  0.1955347  0.22859659 0.27521318 0.35503427 0.4594307\n",
      " 0.51017031 0.60871639 0.75515001 0.853223   0.95704062 1.04756829\n",
      " 1.10615531 1.12332765 1.23104094 1.38948175 1.42799375 1.46876739\n",
      " 1.77340626]\n",
      "0.216441808168108\n",
      "0.10221487700054466\n",
      "-0.025211519952901926\n"
     ]
    }
   ],
   "source": [
    "from scipy.optimize import curve_fit\n",
    "\n",
    "ac = a - 2000\n",
    "print(ac)\n",
    "bc = b/(10**13)\n",
    "print(bc)\n",
    "\n",
    "# Fit the function a * np.exp(b * t) + c to x and y\n",
    "popt, pcov = curve_fit(lambda t, a_c, b_c, c_c: a_c * np.exp(b_c * t)+c_c, ac, bc)\n",
    "\n",
    "a_c = popt[0]\n",
    "b_c = popt[1]\n",
    "c_c = popt[2]\n",
    "print(a_c)\n",
    "print(b_c)\n",
    "print(c_c)"
   ]
  },
  {
   "cell_type": "code",
   "execution_count": 118,
   "id": "7ece9776",
   "metadata": {},
   "outputs": [
    {
     "data": {
      "text/plain": [
       "<matplotlib.legend.Legend at 0x1be5076e3b0>"
      ]
     },
     "execution_count": 118,
     "metadata": {},
     "output_type": "execute_result"
    },
    {
     "data": {
      "image/png": "[encoded data removed]",
      "text/plain": [
       "<Figure size 432x288 with 1 Axes>"
      ]
     },
     "metadata": {
      "needs_background": "light"
     },
     "output_type": "display_data"
    }
   ],
   "source": [
    "# Create the fitted curve\n",
    "x_fitted_c = np.linspace(np.min(a), np.max(a), 100)\n",
    "y_fitted_c = (a_c * np.exp(b_c * (x_fitted_c-2000)) + c_c) * (10**13)\n",
    "\n",
    "# Plot\n",
    "ax = plt.axes()\n",
    "ax.scatter(a, b, label='Raw data')\n",
    "ax.plot(x_fitted_c, y_fitted_c, 'k', label='Fitted curve')\n",
    "ax.set_title(r'Using curve\\_fit() to fit an exponential function')\n",
    "ax.set_ylabel('y-Values')\n",
    "\n",
    "ax.set_xlabel('x-Values')\n",
    "ax.legend()"
   ]
  },
  {
   "cell_type": "markdown",
   "id": "17fc2248",
   "metadata": {},
   "source": [
    "Calculate the square error for curve fitting."
   ]
  },
  {
   "cell_type": "code",
   "execution_count": 119,
   "id": "ef72208b",
   "metadata": {},
   "outputs": [
    {
     "name": "stdout",
     "output_type": "stream",
     "text": [
      "2.4057290346163716e+25\n"
     ]
    }
   ],
   "source": [
    "e_c = (a_c * np.exp(b_c * (a - 2000)) + c_c) * (10**13)\n",
    "r_c = square_error(b, e_c)\n",
    "print(r_c)"
   ]
  },
  {
   "cell_type": "code",
   "execution_count": null,
   "id": "a640d171",
   "metadata": {},
   "outputs": [],
   "source": []
  },
  {
   "cell_type": "code",
   "execution_count": null,
   "id": "7cb80231",
   "metadata": {},
   "outputs": [],
   "source": []
  },
  {
   "cell_type": "code",
   "execution_count": null,
   "id": "075bee5f",
   "metadata": {},
   "outputs": [],
   "source": []
  }
 ],
 "metadata": {
  "kernelspec": {
   "display_name": "Python 3 (ipykernel)",
   "language": "python",
   "name": "python3"
  },
  "language_info": {
   "codemirror_mode": {
    "name": "ipython",
    "version": 3
   },
   "file_extension": ".py",
   "mimetype": "text/x-python",
   "name": "python",
   "nbconvert_exporter": "python",
   "pygments_lexer": "ipython3",
   "version": "3.10.2"
  }
 },
 "nbformat": 4,
 "nbformat_minor": 5
}
